{
 "cells": [
  {
   "cell_type": "code",
   "execution_count": 2,
   "metadata": {},
   "outputs": [],
   "source": [
    "%matplotlib inline\n",
    "import warnings\n",
    "warnings.filterwarnings('ignore')\n",
    "from time import time\n",
    "\n",
    "import pandas as pd\n",
    "import numpy as np\n",
    "import matplotlib.pyplot as plt\n",
    "import seaborn as sns\n",
    "import gensim\n",
    "import random\n",
    "import sqlite3\n",
    "\n",
    "#metrics\n",
    "from sklearn.metrics import accuracy_score\n",
    "from sklearn.metrics import confusion_matrix\n",
    "from sklearn.metrics import precision_score\n",
    "from sklearn.metrics import recall_score\n",
    "from sklearn.metrics import f1_score\n",
    "\n",
    "import pickle\n",
    "#functions for reading and saving file\n",
    "\n",
    "def read(obj,fn):\n",
    "    pickle.dump(obj,open(fn+'.p','wb'))\n",
    "    \n",
    "def save(fn):\n",
    "    t=pickle.load(fn+\".p\",\"rb\")\n",
    "    return t\n"
   ]
  },
  {
   "cell_type": "code",
   "execution_count": 3,
   "metadata": {},
   "outputs": [
    {
     "data": {
      "text/html": [
       "<div>\n",
       "<style scoped>\n",
       "    .dataframe tbody tr th:only-of-type {\n",
       "        vertical-align: middle;\n",
       "    }\n",
       "\n",
       "    .dataframe tbody tr th {\n",
       "        vertical-align: top;\n",
       "    }\n",
       "\n",
       "    .dataframe thead th {\n",
       "        text-align: right;\n",
       "    }\n",
       "</style>\n",
       "<table border=\"1\" class=\"dataframe\">\n",
       "  <thead>\n",
       "    <tr style=\"text-align: right;\">\n",
       "      <th></th>\n",
       "      <th>Unnamed: 0</th>\n",
       "      <th>Id</th>\n",
       "      <th>ProductId</th>\n",
       "      <th>UserId</th>\n",
       "      <th>ProfileName</th>\n",
       "      <th>HelpfulnessNumerator</th>\n",
       "      <th>HelpfulnessDenominator</th>\n",
       "      <th>Score</th>\n",
       "      <th>Time</th>\n",
       "      <th>Summary</th>\n",
       "      <th>Text</th>\n",
       "      <th>CleanedText</th>\n",
       "    </tr>\n",
       "  </thead>\n",
       "  <tbody>\n",
       "    <tr>\n",
       "      <th>0</th>\n",
       "      <td>138706</td>\n",
       "      <td>150524</td>\n",
       "      <td>0006641040</td>\n",
       "      <td>ACITT7DI6IDDL</td>\n",
       "      <td>shari zychinski</td>\n",
       "      <td>0</td>\n",
       "      <td>0</td>\n",
       "      <td>1</td>\n",
       "      <td>939340800</td>\n",
       "      <td>EVERY book is educational</td>\n",
       "      <td>this witty little book makes my son laugh at l...</td>\n",
       "      <td>witti littl book make son laugh loud recit car...</td>\n",
       "    </tr>\n",
       "    <tr>\n",
       "      <th>1</th>\n",
       "      <td>138688</td>\n",
       "      <td>150506</td>\n",
       "      <td>0006641040</td>\n",
       "      <td>A2IW4PEEKO2R0U</td>\n",
       "      <td>Tracy</td>\n",
       "      <td>1</td>\n",
       "      <td>1</td>\n",
       "      <td>1</td>\n",
       "      <td>1194739200</td>\n",
       "      <td>Love the book, miss the hard cover version</td>\n",
       "      <td>I grew up reading these Sendak books, and watc...</td>\n",
       "      <td>grew read sendak book watch realli rosi movi i...</td>\n",
       "    </tr>\n",
       "    <tr>\n",
       "      <th>2</th>\n",
       "      <td>138689</td>\n",
       "      <td>150507</td>\n",
       "      <td>0006641040</td>\n",
       "      <td>A1S4A3IQ2MU7V4</td>\n",
       "      <td>sally sue \"sally sue\"</td>\n",
       "      <td>1</td>\n",
       "      <td>1</td>\n",
       "      <td>1</td>\n",
       "      <td>1191456000</td>\n",
       "      <td>chicken soup with rice months</td>\n",
       "      <td>This is a fun way for children to learn their ...</td>\n",
       "      <td>fun way children learn month year learn poem t...</td>\n",
       "    </tr>\n",
       "    <tr>\n",
       "      <th>3</th>\n",
       "      <td>138690</td>\n",
       "      <td>150508</td>\n",
       "      <td>0006641040</td>\n",
       "      <td>AZGXZ2UUK6X</td>\n",
       "      <td>Catherine Hallberg \"(Kate)\"</td>\n",
       "      <td>1</td>\n",
       "      <td>1</td>\n",
       "      <td>1</td>\n",
       "      <td>1076025600</td>\n",
       "      <td>a good swingy rhythm for reading aloud</td>\n",
       "      <td>This is a great little book to read aloud- it ...</td>\n",
       "      <td>great littl book read aloud- nice rhythm well ...</td>\n",
       "    </tr>\n",
       "    <tr>\n",
       "      <th>4</th>\n",
       "      <td>138691</td>\n",
       "      <td>150509</td>\n",
       "      <td>0006641040</td>\n",
       "      <td>A3CMRKGE0P909G</td>\n",
       "      <td>Teresa</td>\n",
       "      <td>3</td>\n",
       "      <td>4</td>\n",
       "      <td>1</td>\n",
       "      <td>1018396800</td>\n",
       "      <td>A great way to learn the months</td>\n",
       "      <td>This is a book of poetry about the months of t...</td>\n",
       "      <td>book poetri month year goe month cute littl po...</td>\n",
       "    </tr>\n",
       "  </tbody>\n",
       "</table>\n",
       "</div>"
      ],
      "text/plain": [
       "   Unnamed: 0      Id   ProductId          UserId  \\\n",
       "0      138706  150524  0006641040   ACITT7DI6IDDL   \n",
       "1      138688  150506  0006641040  A2IW4PEEKO2R0U   \n",
       "2      138689  150507  0006641040  A1S4A3IQ2MU7V4   \n",
       "3      138690  150508  0006641040     AZGXZ2UUK6X   \n",
       "4      138691  150509  0006641040  A3CMRKGE0P909G   \n",
       "\n",
       "                   ProfileName  HelpfulnessNumerator  HelpfulnessDenominator  \\\n",
       "0              shari zychinski                     0                       0   \n",
       "1                        Tracy                     1                       1   \n",
       "2        sally sue \"sally sue\"                     1                       1   \n",
       "3  Catherine Hallberg \"(Kate)\"                     1                       1   \n",
       "4                       Teresa                     3                       4   \n",
       "\n",
       "   Score        Time                                     Summary  \\\n",
       "0      1   939340800                   EVERY book is educational   \n",
       "1      1  1194739200  Love the book, miss the hard cover version   \n",
       "2      1  1191456000               chicken soup with rice months   \n",
       "3      1  1076025600      a good swingy rhythm for reading aloud   \n",
       "4      1  1018396800             A great way to learn the months   \n",
       "\n",
       "                                                Text  \\\n",
       "0  this witty little book makes my son laugh at l...   \n",
       "1  I grew up reading these Sendak books, and watc...   \n",
       "2  This is a fun way for children to learn their ...   \n",
       "3  This is a great little book to read aloud- it ...   \n",
       "4  This is a book of poetry about the months of t...   \n",
       "\n",
       "                                         CleanedText  \n",
       "0  witti littl book make son laugh loud recit car...  \n",
       "1  grew read sendak book watch realli rosi movi i...  \n",
       "2  fun way children learn month year learn poem t...  \n",
       "3  great littl book read aloud- nice rhythm well ...  \n",
       "4  book poetri month year goe month cute littl po...  "
      ]
     },
     "execution_count": 3,
     "metadata": {},
     "output_type": "execute_result"
    }
   ],
   "source": [
    "#creating dataframe from csv file\n",
    "df=pd.read_csv(\"final.csv\")\n",
    "df.head()"
   ]
  },
  {
   "cell_type": "code",
   "execution_count": 4,
   "metadata": {},
   "outputs": [
    {
     "data": {
      "text/plain": [
       "(100000, 12)"
      ]
     },
     "execution_count": 4,
     "metadata": {},
     "output_type": "execute_result"
    }
   ],
   "source": [
    "#taking random 25k sample\n",
    "df=df.sample(100000)\n",
    "df.shape"
   ]
  },
  {
   "cell_type": "code",
   "execution_count": 5,
   "metadata": {},
   "outputs": [
    {
     "data": {
      "text/plain": [
       "(25000, 12)"
      ]
     },
     "execution_count": 5,
     "metadata": {},
     "output_type": "execute_result"
    }
   ],
   "source": [
    "df1=df.sample(25000)\n",
    "df1.shape"
   ]
  },
  {
   "cell_type": "code",
   "execution_count": 6,
   "metadata": {},
   "outputs": [],
   "source": [
    "#sorting data by time\n",
    "df.sort_values(\"Time\",inplace=True)\n",
    "df1.sort_values(\"Time\",inplace=True)"
   ]
  },
  {
   "cell_type": "markdown",
   "metadata": {},
   "source": [
    "# Unigram"
   ]
  },
  {
   "cell_type": "code",
   "execution_count": 8,
   "metadata": {},
   "outputs": [
    {
     "name": "stdout",
     "output_type": "stream",
     "text": [
      "shape of train (70000, 45130)\n",
      "shape of test (30000, 45130)\n"
     ]
    }
   ],
   "source": [
    "#splitting the data into train and test\n",
    "from sklearn.model_selection import train_test_split\n",
    "from sklearn.feature_extraction.text import CountVectorizer\n",
    "from sklearn import preprocessing\n",
    "\n",
    "X_train,X_test,Y_train,Y_test=train_test_split(df['CleanedText'].values,df['Score'].values,test_size=0.3,shuffle=False)\n",
    "\n",
    "#text to unigram\n",
    "unigram=CountVectorizer()\n",
    "\n",
    "X_train=unigram.fit_transform(X_train)\n",
    "X_test=unigram.transform(X_test)\n",
    "\n",
    "#normalizing\n",
    "\n",
    "X_train=preprocessing.normalize(X_train)\n",
    "X_test=preprocessing.normalize(X_test)\n",
    "\n",
    "print(\"shape of train\",X_train.shape)\n",
    "print(\"shape of test\",X_test.shape)"
   ]
  },
  {
   "cell_type": "code",
   "execution_count": 11,
   "metadata": {},
   "outputs": [
    {
     "name": "stdout",
     "output_type": "stream",
     "text": [
      "shape of train (17500, 500)\n",
      "shape of test (7500, 500)\n"
     ]
    }
   ],
   "source": [
    "#splitting the data into train and test\n",
    "from sklearn.model_selection import train_test_split\n",
    "from sklearn.feature_extraction.text import CountVectorizer\n",
    "from sklearn import preprocessing\n",
    "\n",
    "X_train1,X_test1,Y_train1,Y_test1=train_test_split(df1['CleanedText'].values,df1['Score'].values,test_size=0.3,shuffle=False)\n",
    "\n",
    "#text to unigram\n",
    "unigram=CountVectorizer(min_df=10,max_features=500)\n",
    "\n",
    "X_train1=unigram.fit_transform(X_train1)\n",
    "X_test1=unigram.transform(X_test1)\n",
    "\n",
    "#normalizing\n",
    "\n",
    "X_train1=preprocessing.normalize(X_train1)\n",
    "X_test1=preprocessing.normalize(X_test1)\n",
    "\n",
    "print(\"shape of train\",X_train1.shape)\n",
    "print(\"shape of test\",X_test1.shape)"
   ]
  },
  {
   "cell_type": "code",
   "execution_count": 12,
   "metadata": {},
   "outputs": [
    {
     "name": "stdout",
     "output_type": "stream",
     "text": [
      "(6370, 45130) (6363, 45130)\n",
      "(12733, 45130) (6363, 45130)\n",
      "(19096, 45130) (6363, 45130)\n",
      "(25459, 45130) (6363, 45130)\n",
      "(31822, 45130) (6363, 45130)\n",
      "(38185, 45130) (6363, 45130)\n",
      "(44548, 45130) (6363, 45130)\n",
      "(50911, 45130) (6363, 45130)\n",
      "(57274, 45130) (6363, 45130)\n",
      "(63637, 45130) (6363, 45130)\n"
     ]
    }
   ],
   "source": [
    "#10 fold cross validation\n",
    "from sklearn.model_selection import TimeSeriesSplit\n",
    "\n",
    "tscv=TimeSeriesSplit(n_splits=10)\n",
    "for train,cv in tscv.split(X_train):\n",
    "    print(X_train[train].shape,X_train[cv].shape)"
   ]
  },
  {
   "cell_type": "markdown",
   "metadata": {},
   "source": [
    "## Linear SVM With Calibrated CV"
   ]
  },
  {
   "cell_type": "code",
   "execution_count": 15,
   "metadata": {},
   "outputs": [
    {
     "ename": "TypeError",
     "evalue": "__init__() got an unexpected keyword argument 'scoring'",
     "output_type": "error",
     "traceback": [
      "\u001b[0;31m---------------------------------------------------------------------------\u001b[0m",
      "\u001b[0;31mTypeError\u001b[0m                                 Traceback (most recent call last)",
      "\u001b[0;32m<ipython-input-15-bb61315ec83d>\u001b[0m in \u001b[0;36m<module>\u001b[0;34m()\u001b[0m\n\u001b[1;32m      5\u001b[0m param_grid={'C':[0.00001,0.0001,0.001,0.01,0.1,1,10,100,1000,10000],\n\u001b[1;32m      6\u001b[0m            'penalty':['l1','l2']}\n\u001b[0;32m----> 7\u001b[0;31m \u001b[0mccv\u001b[0m\u001b[0;34m=\u001b[0m\u001b[0mCalibratedClassifierCV\u001b[0m\u001b[0;34m(\u001b[0m\u001b[0mclf\u001b[0m\u001b[0;34m,\u001b[0m\u001b[0mparam_grid\u001b[0m\u001b[0;34m,\u001b[0m\u001b[0mcv\u001b[0m\u001b[0;34m=\u001b[0m\u001b[0mtscv\u001b[0m\u001b[0;34m,\u001b[0m\u001b[0mscoring\u001b[0m\u001b[0;34m=\u001b[0m\u001b[0;34m'roc_auc'\u001b[0m\u001b[0;34m)\u001b[0m\u001b[0;34m\u001b[0m\u001b[0m\n\u001b[0m\u001b[1;32m      8\u001b[0m \u001b[0mccv\u001b[0m\u001b[0;34m.\u001b[0m\u001b[0mfit\u001b[0m\u001b[0;34m(\u001b[0m\u001b[0mX_train\u001b[0m\u001b[0;34m,\u001b[0m\u001b[0mY_train\u001b[0m\u001b[0;34m)\u001b[0m\u001b[0;34m\u001b[0m\u001b[0m\n",
      "\u001b[0;31mTypeError\u001b[0m: __init__() got an unexpected keyword argument 'scoring'"
     ]
    }
   ],
   "source": [
    "from sklearn.calibration import CalibratedClassifierCV\n",
    "from sklearn.linear_model import SGDClassifier\n",
    "\n",
    "clf=SGDClassifier(loss='hinge')\n",
    "param_grid={'C':[0.00001,0.0001,0.001,0.01,0.1,1,10,100,1000,10000],\n",
    "           'penalty':['l1','l2']}\n",
    "ccv=CalibratedClassifierCV(clf,param_grid,cv=tscv,scoring='roc_auc')\n",
    "ccv.fit(X_train,Y_train)"
   ]
  },
  {
   "cell_type": "code",
   "execution_count": 10,
   "metadata": {},
   "outputs": [
    {
     "name": "stdout",
     "output_type": "stream",
     "text": [
      "accuracy on test 87.47f%\n",
      "recall on test 95.67f%\n",
      "precision on test 89.66f%\n",
      "f1 on test 92.57f%\n",
      "Confusion Matrix of test set:\n",
      " [ [TN  FP]\n",
      " [FN TP] ]\n",
      "\n"
     ]
    },
    {
     "data": {
      "image/png": "[encoded data removed]",
      "text/plain": [
       "<Figure size 432x288 with 2 Axes>"
      ]
     },
     "metadata": {},
     "output_type": "display_data"
    }
   ],
   "source": [
    "#testing on test data\n",
    "clf=SVC(gamma=0.05,C=50)\n",
    "clf.fit(X_train,Y_train)\n",
    "Y_pred=clf.predict(X_test)\n",
    "\n",
    "print(\"accuracy on test %0.2ff%%\"%(accuracy_score(Y_test,Y_pred)*100))\n",
    "print(\"recall on test %0.2ff%%\"%(recall_score(Y_test,Y_pred)*100))\n",
    "print(\"precision on test %0.2ff%%\"%(precision_score(Y_test,Y_pred)*100))\n",
    "print(\"f1 on test %0.2ff%%\"%(f1_score(Y_test,Y_pred)*100))\n",
    "print(\"Confusion Matrix of test set:\\n [ [TN  FP]\\n [FN TP] ]\\n\")\n",
    "df_cm=pd.DataFrame(confusion_matrix(Y_test,Y_pred),range(2),range(2))\n",
    "sns.set(font_scale=1.4)\n",
    "sns.heatmap(df_cm,annot=True,annot_kws={'size':16},fmt='g')\n",
    "plt.show()\n"
   ]
  },
  {
   "cell_type": "markdown",
   "metadata": {},
   "source": [
    "# RandomizedSearchCV"
   ]
  },
  {
   "cell_type": "code",
   "execution_count": 11,
   "metadata": {},
   "outputs": [
    {
     "name": "stdout",
     "output_type": "stream",
     "text": [
      "Fitting 10 folds for each of 10 candidates, totalling 100 fits\n"
     ]
    },
    {
     "name": "stderr",
     "output_type": "stream",
     "text": [
      "[Parallel(n_jobs=1)]: Done 100 out of 100 | elapsed:  3.1min finished\n"
     ]
    },
    {
     "name": "stdout",
     "output_type": "stream",
     "text": [
      "best hyperparameter  {'gamma': 0.01, 'C': 500}\n",
      "best score  87.67295597484276\n"
     ]
    }
   ],
   "source": [
    "from sklearn.model_selection import RandomizedSearchCV\n",
    "\n",
    "clf=SVC()\n",
    "rsv=RandomizedSearchCV(clf,param_grid,cv=tscv,verbose=1)\n",
    "rsv.fit(X_train,Y_train)\n",
    "\n",
    "print(\"best hyperparameter \",rsv.best_params_)\n",
    "print(\"best score \",gsv.best_score_*100)"
   ]
  },
  {
   "cell_type": "code",
   "execution_count": 12,
   "metadata": {},
   "outputs": [
    {
     "name": "stdout",
     "output_type": "stream",
     "text": [
      "accuracy on test 85.87f%\n",
      "recall on test 93.55f%\n",
      "precision on test 89.59f%\n",
      "f1 on test 91.53f%\n",
      "Confusion Matrix of test set:\n",
      " [ [TN  FP]\n",
      " [FN TP] ]\n",
      "\n"
     ]
    },
    {
     "data": {
      "image/png": "[encoded data removed]",
      "text/plain": [
       "<Figure size 432x288 with 2 Axes>"
      ]
     },
     "metadata": {},
     "output_type": "display_data"
    }
   ],
   "source": [
    "clf=SVC(gamma=0.01,C=500)\n",
    "clf.fit(X_train,Y_train)\n",
    "Y_pred=clf.predict(X_test)\n",
    "\n",
    "print(\"accuracy on test %0.2ff%%\"%(accuracy_score(Y_test,Y_pred)*100))\n",
    "print(\"recall on test %0.2ff%%\"%(recall_score(Y_test,Y_pred)*100))\n",
    "print(\"precision on test %0.2ff%%\"%(precision_score(Y_test,Y_pred)*100))\n",
    "print(\"f1 on test %0.2ff%%\"%(f1_score(Y_test,Y_pred)*100))\n",
    "print(\"Confusion Matrix of test set:\\n [ [TN  FP]\\n [FN TP] ]\\n\")\n",
    "df_cm=pd.DataFrame(confusion_matrix(Y_test,Y_pred),range(2),range(2))\n",
    "sns.set(font_scale=1.4)\n",
    "sns.heatmap(df_cm,annot=True,annot_kws={'size':16},fmt='g')\n",
    "plt.show()"
   ]
  },
  {
   "cell_type": "markdown",
   "metadata": {},
   "source": [
    "# Bigram"
   ]
  },
  {
   "cell_type": "code",
   "execution_count": 14,
   "metadata": {},
   "outputs": [
    {
     "name": "stdout",
     "output_type": "stream",
     "text": [
      "shape of train  (3500, 102098)\n",
      "shape of test  (1500, 102098)\n"
     ]
    }
   ],
   "source": [
    "X_train,X_test,Y_train,Y_test=train_test_split(df['CleanedText'].values,df['Score'].values,test_size=0.3,shuffle=False)\n",
    "\n",
    "#text to bigram\n",
    "bigram=CountVectorizer(ngram_range=(1,2))\n",
    "\n",
    "X_train=bigram.fit_transform(X_train)\n",
    "X_test=bigram.transform(X_test)\n",
    "\n",
    "#normalize\n",
    "X_train=preprocessing.normalize(X_train)\n",
    "X_test=preprocessing.normalize(X_test)\n",
    "print(\"shape of train \",X_train.shape)\n",
    "print(\"shape of test \",X_test.shape)"
   ]
  },
  {
   "cell_type": "markdown",
   "metadata": {},
   "source": [
    "# SVC\n",
    "\n",
    "## GridsearchCV"
   ]
  },
  {
   "cell_type": "code",
   "execution_count": 16,
   "metadata": {},
   "outputs": [
    {
     "name": "stdout",
     "output_type": "stream",
     "text": [
      "Fitting 10 folds for each of 225 candidates, totalling 2250 fits\n"
     ]
    },
    {
     "name": "stderr",
     "output_type": "stream",
     "text": [
      "[Parallel(n_jobs=1)]: Done 2250 out of 2250 | elapsed: 109.2min finished\n"
     ]
    },
    {
     "name": "stdout",
     "output_type": "stream",
     "text": [
      "best hyperparameter :  {'C': 1000, 'gamma': 0.01}\n",
      "best score :  87.0754716981132\n"
     ]
    }
   ],
   "source": [
    "clf=SVC()\n",
    "gsv=GridSearchCV(clf,param_grid,cv=tscv,verbose=1)\n",
    "gsv.fit(X_train,Y_train)\n",
    "\n",
    "print(\"best hyperparameter : \",gsv.best_params_)\n",
    "print(\"best score : \",gsv.best_score_*100)"
   ]
  },
  {
   "cell_type": "code",
   "execution_count": 17,
   "metadata": {},
   "outputs": [
    {
     "name": "stdout",
     "output_type": "stream",
     "text": [
      "accuracy on test 88.87f%\n",
      "recall on test 97.79f%\n",
      "precision on test 89.53f%\n",
      "f1 on test 93.48f%\n",
      "Confusion Matrix of test set:\n",
      " [ [TN  FP]\n",
      " [FN TP] ]\n",
      "\n"
     ]
    },
    {
     "data": {
      "image/png": "[encoded data removed]",
      "text/plain": [
       "<Figure size 432x288 with 2 Axes>"
      ]
     },
     "metadata": {},
     "output_type": "display_data"
    }
   ],
   "source": [
    "clf=SVC(gamma=0.01,C=1000)\n",
    "clf.fit(X_train,Y_train)\n",
    "Y_pred=clf.predict(X_test)\n",
    "\n",
    "print(\"accuracy on test %0.2ff%%\"%(accuracy_score(Y_test,Y_pred)*100))\n",
    "print(\"recall on test %0.2ff%%\"%(recall_score(Y_test,Y_pred)*100))\n",
    "print(\"precision on test %0.2ff%%\"%(precision_score(Y_test,Y_pred)*100))\n",
    "print(\"f1 on test %0.2ff%%\"%(f1_score(Y_test,Y_pred)*100))\n",
    "print(\"Confusion Matrix of test set:\\n [ [TN  FP]\\n [FN TP] ]\\n\")\n",
    "df_cm=pd.DataFrame(confusion_matrix(Y_test,Y_pred),range(2),range(2))\n",
    "sns.set(font_scale=1.4)\n",
    "sns.heatmap(df_cm,annot=True,annot_kws={'size':16},fmt='g')\n",
    "plt.show()"
   ]
  },
  {
   "cell_type": "markdown",
   "metadata": {},
   "source": [
    "## RandomizedSearchCV"
   ]
  },
  {
   "cell_type": "code",
   "execution_count": 19,
   "metadata": {},
   "outputs": [
    {
     "name": "stdout",
     "output_type": "stream",
     "text": [
      "Fitting 10 folds for each of 10 candidates, totalling 100 fits\n"
     ]
    },
    {
     "name": "stderr",
     "output_type": "stream",
     "text": [
      "[Parallel(n_jobs=1)]: Done 100 out of 100 | elapsed:  4.2min finished\n"
     ]
    },
    {
     "name": "stdout",
     "output_type": "stream",
     "text": [
      "best hyperparameter  {'gamma': 0.001, 'C': 1000}\n",
      "best score  87.0754716981132\n"
     ]
    }
   ],
   "source": [
    "clf=SVC()\n",
    "rsv=RandomizedSearchCV(clf,param_grid,cv=tscv,verbose=1)\n",
    "rsv.fit(X_train,Y_train)\n",
    "\n",
    "print(\"best hyperparameter \",rsv.best_params_)\n",
    "print(\"best score \",gsv.best_score_*100)"
   ]
  },
  {
   "cell_type": "code",
   "execution_count": 22,
   "metadata": {},
   "outputs": [
    {
     "name": "stdout",
     "output_type": "stream",
     "text": [
      "accuracy on test 88.67f%\n",
      "recall on test 98.28f%\n",
      "precision on test 88.98f%\n",
      "f1 on test 93.40f%\n",
      "confusion_matrix on test \n",
      " [ [TN  FP]\n",
      " [FN TP] ]\n",
      "\n"
     ]
    },
    {
     "data": {
      "text/plain": [
       "<matplotlib.axes._subplots.AxesSubplot at 0x7f2422db2898>"
      ]
     },
     "execution_count": 22,
     "metadata": {},
     "output_type": "execute_result"
    },
    {
     "data": {
      "image/png": "[encoded data removed]",
      "text/plain": [
       "<Figure size 432x288 with 2 Axes>"
      ]
     },
     "metadata": {},
     "output_type": "display_data"
    }
   ],
   "source": [
    "clf=SVC(C=1000,gamma=0.001)\n",
    "clf.fit(X_train,Y_train)\n",
    "Y_pred=clf.predict(X_test)\n",
    "\n",
    "print(\"accuracy on test %.2ff%%\"%(accuracy_score(Y_test,Y_pred)*100))\n",
    "print(\"recall on test %.2ff%%\"%(recall_score(Y_test,Y_pred)*100))\n",
    "print(\"precision on test %.2ff%%\"%(precision_score(Y_test,Y_pred)*100))\n",
    "print(\"f1 on test %.2ff%%\"%(f1_score(Y_test,Y_pred)*100))\n",
    "print(\"confusion_matrix on test \\n [ [TN  FP]\\n [FN TP] ]\\n\")\n",
    "\n",
    "df_cm=pd.DataFrame(confusion_matrix(Y_test,Y_pred),range(2),range(2))\n",
    "sns.set(font_scale=1.4)\n",
    "sns.heatmap(df_cm,annot=True,annot_kws={'size':16},fmt='g')"
   ]
  },
  {
   "cell_type": "markdown",
   "metadata": {},
   "source": [
    "# Tfidf"
   ]
  },
  {
   "cell_type": "code",
   "execution_count": 8,
   "metadata": {},
   "outputs": [
    {
     "name": "stdout",
     "output_type": "stream",
     "text": [
      "shape of train  (3500, 8257)\n",
      "shape of test  (1500, 8257)\n"
     ]
    }
   ],
   "source": [
    "from sklearn.feature_extraction.text import TfidfVectorizer\n",
    "from sklearn.model_selection import train_test_split\n",
    "from sklearn import preprocessing\n",
    "\n",
    "#splitting the data into train and test\n",
    "\n",
    "X_train,X_test,Y_train,Y_test=train_test_split(df['CleanedText'].values,df['Score'].values,test_size=0.3,shuffle=False)\n",
    "\n",
    "#text to tfidf vector\n",
    "tfidf=TfidfVectorizer()\n",
    "X_train=tfidf.fit_transform(X_train)\n",
    "X_test=tfidf.transform(X_test)\n",
    "\n",
    "#normalize\n",
    "X_train=preprocessing.normalize(X_train)\n",
    "X_test=preprocessing.normalize(X_test)\n",
    "\n",
    "print(\"shape of train \",X_train.shape)\n",
    "print(\"shape of test \",X_test.shape)"
   ]
  },
  {
   "cell_type": "code",
   "execution_count": 9,
   "metadata": {},
   "outputs": [
    {
     "name": "stdout",
     "output_type": "stream",
     "text": [
      "(320, 8257) (318, 8257)\n",
      "(638, 8257) (318, 8257)\n",
      "(956, 8257) (318, 8257)\n",
      "(1274, 8257) (318, 8257)\n",
      "(1592, 8257) (318, 8257)\n",
      "(1910, 8257) (318, 8257)\n",
      "(2228, 8257) (318, 8257)\n",
      "(2546, 8257) (318, 8257)\n",
      "(2864, 8257) (318, 8257)\n",
      "(3182, 8257) (318, 8257)\n"
     ]
    }
   ],
   "source": [
    "#10 fold cross validation\n",
    "from sklearn.model_selection import TimeSeriesSplit\n",
    "tscv=TimeSeriesSplit(n_splits=10)\n",
    "\n",
    "for train,cv in tscv.split(X_train):\n",
    "    print(X_train[train].shape,X_train[cv].shape)"
   ]
  },
  {
   "cell_type": "markdown",
   "metadata": {},
   "source": [
    "# SVC\n",
    "\n",
    "## GridSearchCV"
   ]
  },
  {
   "cell_type": "code",
   "execution_count": 10,
   "metadata": {},
   "outputs": [
    {
     "name": "stdout",
     "output_type": "stream",
     "text": [
      "Fitting 10 folds for each of 225 candidates, totalling 2250 fits\n"
     ]
    },
    {
     "name": "stderr",
     "output_type": "stream",
     "text": [
      "[Parallel(n_jobs=1)]: Done 2250 out of 2250 | elapsed: 64.8min finished\n"
     ]
    },
    {
     "name": "stdout",
     "output_type": "stream",
     "text": [
      "best hyperparameter  {'C': 10, 'gamma': 0.1}\n",
      "best score  87.76729559748428\n"
     ]
    }
   ],
   "source": [
    "from sklearn.model_selection import GridSearchCV\n",
    "from sklearn.svm import SVC\n",
    "\n",
    "clf=SVC()\n",
    "param_grid={'C':[1000,500,100,50,10,5,1,0.5,0.1,0.05,0.01,0.005,0.001,0.0005,0.0001],\n",
    "           'gamma':[1000,500,100,50,10,5,1,0.5,0.1,0.05,0.01,0.005,0.001,0.0005,0.0001]}\n",
    "gsv=GridSearchCV(clf,param_grid,cv=tscv,verbose=1)\n",
    "gsv.fit(X_train,Y_train)\n",
    "print(\"best hyperparameter \",gsv.best_params_)\n",
    "print(\"best score \",gsv.best_score_*100)"
   ]
  },
  {
   "cell_type": "code",
   "execution_count": 12,
   "metadata": {},
   "outputs": [
    {
     "name": "stdout",
     "output_type": "stream",
     "text": [
      "accuracy on test 88.80f%\n",
      "precision on test 90.34f%\n",
      "recall on test 96.87f%\n",
      "f1 on test 93.49f%\n",
      "confusion matrix on test \n",
      " [ [TN  FP]\n",
      " [FN TP] ]\n",
      "\n"
     ]
    },
    {
     "data": {
      "image/png": "[encoded data removed]",
      "text/plain": [
       "<Figure size 432x288 with 2 Axes>"
      ]
     },
     "metadata": {},
     "output_type": "display_data"
    }
   ],
   "source": [
    "#testing on test data\n",
    "clf=SVC(C=10,gamma=0.1)\n",
    "clf.fit(X_train,Y_train)\n",
    "Y_pred=clf.predict(X_test)\n",
    "\n",
    "print(\"accuracy on test %0.2ff%%\"%(accuracy_score(Y_test,Y_pred)*100))\n",
    "print(\"precision on test %0.2ff%%\"%(precision_score(Y_test,Y_pred)*100))\n",
    "print(\"recall on test %0.2ff%%\"%(recall_score(Y_test,Y_pred)*100))\n",
    "print(\"f1 on test %0.2ff%%\"%(f1_score(Y_test,Y_pred)*100))\n",
    "print(\"confusion matrix on test \\n [ [TN  FP]\\n [FN TP] ]\\n\")\n",
    "\n",
    "df_cm=pd.DataFrame(confusion_matrix(Y_test,Y_pred),range(2),range(2))\n",
    "sns.set(font_scale=1.4)\n",
    "sns.heatmap(df_cm,annot=True,annot_kws={'size':16},fmt='g')\n",
    "plt.show()"
   ]
  },
  {
   "cell_type": "markdown",
   "metadata": {},
   "source": [
    "## RandomizedSearchCV"
   ]
  },
  {
   "cell_type": "code",
   "execution_count": 13,
   "metadata": {},
   "outputs": [
    {
     "name": "stdout",
     "output_type": "stream",
     "text": [
      "Fitting 10 folds for each of 10 candidates, totalling 100 fits\n"
     ]
    },
    {
     "name": "stderr",
     "output_type": "stream",
     "text": [
      "[Parallel(n_jobs=1)]: Done 100 out of 100 | elapsed:  3.5min finished\n"
     ]
    },
    {
     "name": "stdout",
     "output_type": "stream",
     "text": [
      "best hyperparameter  {'gamma': 1, 'C': 1}\n",
      "best score  85.44025157232704\n"
     ]
    }
   ],
   "source": [
    "from sklearn.model_selection import RandomizedSearchCV\n",
    "clf=SVC()\n",
    "rsv=RandomizedSearchCV(clf,param_grid,cv=tscv,verbose=1)\n",
    "rsv.fit(X_train,Y_train)\n",
    "\n",
    "print(\"best hyperparameter \",rsv.best_params_)\n",
    "print(\"best score \",rsv.best_score_*100)\n"
   ]
  },
  {
   "cell_type": "code",
   "execution_count": 14,
   "metadata": {},
   "outputs": [
    {
     "name": "stdout",
     "output_type": "stream",
     "text": [
      "accuracy on test 84.93f%\n",
      "precision on test 84.79f%\n",
      "recall on test 99.76f%\n",
      "f1 on test 91.67f%\n",
      "confusion matrix on test \n",
      " [ [TN  FP]\n",
      " [FN TP] ]\n",
      "\n"
     ]
    },
    {
     "data": {
      "image/png": "[encoded data removed]",
      "text/plain": [
       "<Figure size 432x288 with 2 Axes>"
      ]
     },
     "metadata": {},
     "output_type": "display_data"
    }
   ],
   "source": [
    "#testing on test data\n",
    "clf=SVC(gamma=1,C=1)\n",
    "clf.fit(X_train,Y_train)\n",
    "Y_pred=clf.predict(X_test)\n",
    "\n",
    "print(\"accuracy on test %.2ff%%\"%(accuracy_score(Y_test,Y_pred)*100))\n",
    "print(\"precision on test %.2ff%%\"%(precision_score(Y_test,Y_pred)*100))\n",
    "print(\"recall on test %.2ff%%\"%(recall_score(Y_test,Y_pred)*100))\n",
    "print(\"f1 on test %.2ff%%\"%(f1_score(Y_test,Y_pred)*100))\n",
    "print(\"confusion matrix on test \\n [ [TN  FP]\\n [FN TP] ]\\n\")\n",
    "\n",
    "df_cm=pd.DataFrame(confusion_matrix(Y_test,Y_pred),range(2),range(2))\n",
    "sns.set(font_scale=1.4)\n",
    "sns.heatmap(df_cm,annot=True,annot_kws={'size':16},fmt='g')\n",
    "plt.show()"
   ]
  },
  {
   "cell_type": "markdown",
   "metadata": {},
   "source": [
    "# Word2Vec"
   ]
  },
  {
   "cell_type": "code",
   "execution_count": 15,
   "metadata": {},
   "outputs": [
    {
     "name": "stdout",
     "output_type": "stream",
     "text": [
      "origin bought sadi golden retreiv month show interest cute small squeak toy ginger take mouth like littl puppi insert collect awwwww howev awhil show sporad interest appear would much rather show chop chew bite wrestl larger stuf anim gorilla current favorit howev pound old boy love first bought sever year ago hedgehog soft cudd perfect size probabl cost less stuf anim design specif children either dog child hedgehog sire find love bite home\n",
      "******************************************************\n",
      "['origin', 'bought', 'sadi', 'golden', 'retreiv', 'month', 'show', 'interest', 'cute', 'small', 'squeak', 'toy', 'ginger', 'take', 'mouth', 'like', 'littl', 'puppi', 'insert', 'collect', 'awwwww', 'howev', 'awhil', 'show', 'sporad', 'interest', 'appear', 'would', 'much', 'rather', 'show', 'chop', 'chew', 'bite', 'wrestl', 'larger', 'stuf', 'anim', 'gorilla', 'current', 'favorit', 'howev', 'pound', 'old', 'boy', 'love', 'first', 'bought', 'sever', 'year', 'ago', 'hedgehog', 'soft', 'cudd', 'perfect', 'size', 'probabl', 'cost', 'less', 'stuf', 'anim', 'design', 'specif', 'children', 'either', 'dog', 'child', 'hedgehog', 'sire', 'find', 'love', 'bite', 'home']\n"
     ]
    }
   ],
   "source": [
    "i=0\n",
    "list_of_sent=[]\n",
    "for sent in df['CleanedText'].values:\n",
    "    list_of_sent.append(sent.split())\n",
    "    \n",
    "print(df['CleanedText'].values[0])\n",
    "print(\"******************************************************\")\n",
    "print(list_of_sent[0])"
   ]
  },
  {
   "cell_type": "code",
   "execution_count": 20,
   "metadata": {},
   "outputs": [],
   "source": [
    "from gensim.models import Word2Vec\n",
    "w2v_model=Word2Vec(list_of_sent,min_count=5,size=300,workers=4)"
   ]
  },
  {
   "cell_type": "code",
   "execution_count": 21,
   "metadata": {},
   "outputs": [
    {
     "name": "stdout",
     "output_type": "stream",
     "text": [
      "sample_words  ['origin', 'bought', 'golden', 'month', 'show', 'interest', 'cute', 'small', 'toy', 'ginger', 'take', 'mouth', 'like', 'littl', 'puppi', 'insert', 'collect', 'howev', 'awhil', 'appear', 'would', 'much', 'rather', 'chop', 'chew', 'bite', 'larger', 'stuf', 'anim', 'current', 'favorit', 'pound', 'old', 'boy', 'love', 'first', 'sever', 'year', 'ago', 'soft', 'perfect', 'size', 'probabl', 'cost', 'less', 'design', 'specif', 'children', 'either', 'dog']\n"
     ]
    }
   ],
   "source": [
    "w2v_words=list(w2v_model.wv.vocab)\n",
    "print(\"sample_words \",w2v_words[0:50])"
   ]
  },
  {
   "cell_type": "markdown",
   "metadata": {},
   "source": [
    "# Average Word2Vec"
   ]
  },
  {
   "cell_type": "code",
   "execution_count": 22,
   "metadata": {},
   "outputs": [
    {
     "name": "stderr",
     "output_type": "stream",
     "text": [
      "100%|██████████| 5000/5000 [00:05<00:00, 932.91it/s] "
     ]
    },
    {
     "name": "stdout",
     "output_type": "stream",
     "text": [
      "5000\n",
      "300\n"
     ]
    },
    {
     "name": "stderr",
     "output_type": "stream",
     "text": [
      "\n"
     ]
    }
   ],
   "source": [
    "from tqdm import tqdm\n",
    "sent_vectors=[]\n",
    "for sent in tqdm(list_of_sent):\n",
    "    sent_vec=np.zeros(300)\n",
    "    cnt_words=0\n",
    "    for word in sent:\n",
    "        if word in w2v_words:\n",
    "            vec=w2v_model.wv[word]\n",
    "            sent_vec+=vec\n",
    "            cnt_words+=1\n",
    "    if cnt_words!=0:\n",
    "        sent_vec/=cnt_words\n",
    "    sent_vectors.append(sent_vec)\n",
    "print(len(sent_vectors))\n",
    "print(len(sent_vectors[0]))"
   ]
  },
  {
   "cell_type": "code",
   "execution_count": 34,
   "metadata": {},
   "outputs": [
    {
     "name": "stdout",
     "output_type": "stream",
     "text": [
      "shape of train  (3500, 300)\n",
      "shape of test  (1500, 300)\n"
     ]
    }
   ],
   "source": [
    "#normalizing avg_word2Vec\n",
    "avg_vec_norm=preprocessing.normalize(sent_vectors)\n",
    "\n",
    "#breaking into train and test \n",
    "X_train,X_test,Y_train,Y_test=train_test_split(avg_vec_norm,df['Score'].values,test_size=0.3,shuffle=False)\n",
    "print(\"shape of train \",X_train.shape)\n",
    "print(\"shape of test \",X_test.shape)"
   ]
  },
  {
   "cell_type": "markdown",
   "metadata": {},
   "source": [
    "# SVC\n",
    "\n",
    "## GridSearchCV"
   ]
  },
  {
   "cell_type": "code",
   "execution_count": 26,
   "metadata": {},
   "outputs": [
    {
     "name": "stdout",
     "output_type": "stream",
     "text": [
      "Fitting 10 folds for each of 225 candidates, totalling 2250 fits\n"
     ]
    },
    {
     "name": "stderr",
     "output_type": "stream",
     "text": [
      "[Parallel(n_jobs=1)]: Done 2250 out of 2250 | elapsed: 51.6min finished\n"
     ]
    },
    {
     "name": "stdout",
     "output_type": "stream",
     "text": [
      "best hyperparameter  {'C': 1000, 'gamma': 10}\n",
      "best score  0.8575471698113207\n"
     ]
    }
   ],
   "source": [
    "clf=SVC()\n",
    "gsv=GridSearchCV(clf,param_grid,cv=tscv,verbose=1)\n",
    "gsv.fit(X_train,Y_train)\n",
    "\n",
    "print(\"best hyperparameter \",gsv.best_params_)\n",
    "print(\"best score \",gsv.best_score_)"
   ]
  },
  {
   "cell_type": "code",
   "execution_count": 28,
   "metadata": {},
   "outputs": [
    {
     "name": "stdout",
     "output_type": "stream",
     "text": [
      "accuracy on test 84.53f%\n",
      "precision on test 85.41f%\n",
      "recall on test 98.15f%\n",
      "f1 on test 91.34f%\n",
      "confusion matrix on test \n",
      " [ [TN  FP]\n",
      " [FN TP] ]\n",
      "\n"
     ]
    },
    {
     "data": {
      "image/png": "[encoded data removed]",
      "text/plain": [
       "<Figure size 432x288 with 2 Axes>"
      ]
     },
     "metadata": {},
     "output_type": "display_data"
    }
   ],
   "source": [
    "#testing on test data\n",
    "\n",
    "clf=SVC(C=1000,gamma=10)\n",
    "clf.fit(X_train,Y_train)\n",
    "Y_pred=clf.predict(X_test)\n",
    "\n",
    "print(\"accuracy on test %0.2ff%%\"%(accuracy_score(Y_test,Y_pred)*100))\n",
    "print(\"precision on test %0.2ff%%\"%(precision_score(Y_test,Y_pred)*100))\n",
    "print(\"recall on test %0.2ff%%\"%(recall_score(Y_test,Y_pred)*100))\n",
    "print(\"f1 on test %0.2ff%%\"%(f1_score(Y_test,Y_pred)*100))\n",
    "print(\"confusion matrix on test \\n [ [TN  FP]\\n [FN TP] ]\\n\")\n",
    "\n",
    "df_cm=pd.DataFrame(confusion_matrix(Y_test,Y_pred),range(2),range(2))\n",
    "sns.set(font_scale=1.4)\n",
    "sns.heatmap(df_cm,annot=True,annot_kws={'size':16},fmt='g')\n",
    "plt.show()"
   ]
  },
  {
   "cell_type": "markdown",
   "metadata": {},
   "source": [
    "# RandomizedSearchCV"
   ]
  },
  {
   "cell_type": "code",
   "execution_count": 35,
   "metadata": {},
   "outputs": [
    {
     "name": "stdout",
     "output_type": "stream",
     "text": [
      "Fitting 10 folds for each of 10 candidates, totalling 100 fits\n"
     ]
    },
    {
     "name": "stderr",
     "output_type": "stream",
     "text": [
      "[Parallel(n_jobs=1)]: Done 100 out of 100 | elapsed:  2.4min finished\n"
     ]
    },
    {
     "name": "stdout",
     "output_type": "stream",
     "text": [
      "best hyperparameter  {'gamma': 1, 'C': 0.1}\n",
      "best score  0.85062893081761\n"
     ]
    }
   ],
   "source": [
    "from sklearn.model_selection import RandomizedSearchCV\n",
    "clf=SVC()\n",
    "rsv=RandomizedSearchCV(clf,param_grid,cv=tscv,verbose=1)\n",
    "rsv.fit(X_train,Y_train)\n",
    "\n",
    "print(\"best hyperparameter \",rsv.best_params_)\n",
    "print(\"best score \",rsv.best_score_)"
   ]
  },
  {
   "cell_type": "code",
   "execution_count": 37,
   "metadata": {},
   "outputs": [
    {
     "name": "stdout",
     "output_type": "stream",
     "text": [
      "accuacy on test 83.07f%\n",
      "precision on test 83.07f%\n",
      "recall on test 100.00f%\n",
      "f1 on test 90.75f%\n",
      "confusion matrix on test [[TN FP]\n",
      "[FN TP]]\n",
      "\n"
     ]
    },
    {
     "data": {
      "image/png": "[encoded data removed]",
      "text/plain": [
       "<Figure size 432x288 with 2 Axes>"
      ]
     },
     "metadata": {},
     "output_type": "display_data"
    }
   ],
   "source": [
    "#testing on testdata\n",
    "\n",
    "clf=SVC(gamma=1,C=0.1)\n",
    "clf.fit(X_train,Y_train)\n",
    "Y_pred=clf.predict(X_test)\n",
    "\n",
    "print(\"accuacy on test %0.2ff%%\"%(accuracy_score(Y_test,Y_pred)*100))\n",
    "print(\"precision on test %0.2ff%%\"%(precision_score(Y_test,Y_pred)*100))\n",
    "print(\"recall on test %0.2ff%%\"%(recall_score(Y_test,Y_pred)*100))\n",
    "print(\"f1 on test %0.2ff%%\"%(f1_score(Y_test,Y_pred)*100))\n",
    "print(\"confusion matrix on test [[TN FP]\\n[FN TP]]\\n\")\n",
    "\n",
    "df_cm=pd.DataFrame(confusion_matrix(Y_test,Y_pred),range(2),range(2))\n",
    "sns.set(font_scale=1.4)\n",
    "sns.heatmap(df_cm,annot=True,annot_kws={'size':16},fmt='g')\n",
    "plt.show()"
   ]
  },
  {
   "cell_type": "markdown",
   "metadata": {},
   "source": [
    "# Average Tfidf"
   ]
  },
  {
   "cell_type": "code",
   "execution_count": 29,
   "metadata": {},
   "outputs": [],
   "source": [
    "from sklearn.feature_extraction.text import TfidfVectorizer\n",
    "model = TfidfVectorizer()\n",
    "tf_idf_matrix = model.fit_transform(df['CleanedText'].values)\n",
    "\n",
    "dictionary = dict(zip(model.get_feature_names(), list(model.idf_)))"
   ]
  },
  {
   "cell_type": "code",
   "execution_count": 31,
   "metadata": {},
   "outputs": [
    {
     "name": "stderr",
     "output_type": "stream",
     "text": [
      "100%|██████████| 5000/5000 [00:05<00:00, 847.15it/s]\n"
     ]
    }
   ],
   "source": [
    "\n",
    "tfidf_feat = model.get_feature_names()\n",
    "\n",
    "tfidf_sent_vectors = []; \n",
    "row=0;\n",
    "for sent in tqdm(list_of_sent):  \n",
    "    sent_vec = np.zeros(300) \n",
    "    weight_sum =0; \n",
    "    for word in sent: \n",
    "        if word in w2v_words:\n",
    "            vec = w2v_model.wv[word]\n",
    "             \n",
    "            tf_idf = dictionary[word]*sent.count(word)\n",
    "            sent_vec += (vec * tf_idf)\n",
    "            weight_sum += tf_idf\n",
    "    if weight_sum != 0:\n",
    "        sent_vec /= weight_sum\n",
    "    tfidf_sent_vectors.append(sent_vec)\n",
    "    row += 1"
   ]
  },
  {
   "cell_type": "code",
   "execution_count": 38,
   "metadata": {},
   "outputs": [
    {
     "name": "stdout",
     "output_type": "stream",
     "text": [
      "shape of train  (3500, 300)\n",
      "shape of test  (1500, 300)\n"
     ]
    }
   ],
   "source": [
    "tfidf_vect_norm=preprocessing.normalize(tfidf_sent_vectors)\n",
    "#splitiing data into train and test\n",
    "X_train,X_test,Y_train,Y_test=train_test_split(tfidf_vect_norm,df['Score'].values,test_size=0.3,shuffle=False)\n",
    "\n",
    "print(\"shape of train \",X_train.shape)\n",
    "print(\"shape of test \",X_test.shape)"
   ]
  },
  {
   "cell_type": "markdown",
   "metadata": {},
   "source": [
    "# GridSearchCV"
   ]
  },
  {
   "cell_type": "code",
   "execution_count": 33,
   "metadata": {},
   "outputs": [
    {
     "name": "stdout",
     "output_type": "stream",
     "text": [
      "Fitting 10 folds for each of 225 candidates, totalling 2250 fits\n"
     ]
    },
    {
     "name": "stderr",
     "output_type": "stream",
     "text": [
      "[Parallel(n_jobs=1)]: Done 2250 out of 2250 | elapsed: 52.7min finished\n"
     ]
    },
    {
     "name": "stdout",
     "output_type": "stream",
     "text": [
      "best hyperparameter  {'C': 1000, 'gamma': 10}\n",
      "best score  0.85062893081761\n"
     ]
    }
   ],
   "source": [
    "clf=SVC()\n",
    "gsv=GridSearchCV(clf,param_grid,cv=tscv,verbose=1)\n",
    "gsv.fit(X_train,Y_train)\n",
    "\n",
    "print(\"best hyperparameter \",gsv.best_params_)\n",
    "print(\"best score \",gsv.best_score_)"
   ]
  },
  {
   "cell_type": "code",
   "execution_count": 39,
   "metadata": {},
   "outputs": [
    {
     "name": "stdout",
     "output_type": "stream",
     "text": [
      "accuacy on test 81.87f%\n",
      "precision on test 85.34f%\n",
      "recall on test 94.38f%\n",
      "f1 on test 89.63f%\n",
      "confusion matrix on test [[TN FP]\n",
      "[FN TP]]\n",
      "\n"
     ]
    },
    {
     "data": {
      "image/png": "[encoded data removed]",
      "text/plain": [
       "<Figure size 432x288 with 2 Axes>"
      ]
     },
     "metadata": {},
     "output_type": "display_data"
    }
   ],
   "source": [
    "#testing on test data\n",
    "clf=SVC(C=10,gamma=1000)\n",
    "clf.fit(X_train,Y_train)\n",
    "Y_pred=clf.predict(X_test)\n",
    "\n",
    "print(\"accuacy on test %0.2ff%%\"%(accuracy_score(Y_test,Y_pred)*100))\n",
    "print(\"precision on test %0.2ff%%\"%(precision_score(Y_test,Y_pred)*100))\n",
    "print(\"recall on test %0.2ff%%\"%(recall_score(Y_test,Y_pred)*100))\n",
    "print(\"f1 on test %0.2ff%%\"%(f1_score(Y_test,Y_pred)*100))\n",
    "print(\"confusion matrix on test [[TN FP]\\n[FN TP]]\\n\")\n",
    "\n",
    "df_cm=pd.DataFrame(confusion_matrix(Y_test,Y_pred),range(2),range(2))\n",
    "sns.set(font_scale=1.4)\n",
    "sns.heatmap(df_cm,annot=True,annot_kws={'size':16},fmt='g')\n",
    "plt.show()"
   ]
  },
  {
   "cell_type": "markdown",
   "metadata": {},
   "source": [
    "# RandomizedSearchCV"
   ]
  },
  {
   "cell_type": "code",
   "execution_count": 40,
   "metadata": {},
   "outputs": [
    {
     "name": "stdout",
     "output_type": "stream",
     "text": [
      "Fitting 10 folds for each of 10 candidates, totalling 100 fits\n"
     ]
    },
    {
     "name": "stderr",
     "output_type": "stream",
     "text": [
      "[Parallel(n_jobs=1)]: Done 100 out of 100 | elapsed:  2.4min finished\n"
     ]
    },
    {
     "name": "stdout",
     "output_type": "stream",
     "text": [
      "best hyperparameter  {'gamma': 0.01, 'C': 500}\n",
      "best score  0.85062893081761\n"
     ]
    }
   ],
   "source": [
    "from sklearn.model_selection import RandomizedSearchCV\n",
    "clf=SVC()\n",
    "rsv=RandomizedSearchCV(clf,param_grid,cv=tscv,verbose=1)\n",
    "rsv.fit(X_train,Y_train)\n",
    "\n",
    "print(\"best hyperparameter \",rsv.best_params_)\n",
    "print(\"best score \",rsv.best_score_)"
   ]
  },
  {
   "cell_type": "code",
   "execution_count": 41,
   "metadata": {},
   "outputs": [
    {
     "name": "stdout",
     "output_type": "stream",
     "text": [
      "accuacy on test 83.07f%\n",
      "precision on test 83.07f%\n",
      "recall on test 100.00f%\n",
      "f1 on test 90.75f%\n",
      "confusion matrix on test [[TN FP]\n",
      "[FN TP]]\n",
      "\n"
     ]
    },
    {
     "data": {
      "image/png": "[encoded data removed]",
      "text/plain": [
       "<Figure size 432x288 with 2 Axes>"
      ]
     },
     "metadata": {},
     "output_type": "display_data"
    }
   ],
   "source": [
    "clf=SVC(C=500,gamma=0.01)\n",
    "clf.fit(X_train,Y_train)\n",
    "Y_pred=clf.predict(X_test)\n",
    "\n",
    "print(\"accuacy on test %0.2ff%%\"%(accuracy_score(Y_test,Y_pred)*100))\n",
    "print(\"precision on test %0.2ff%%\"%(precision_score(Y_test,Y_pred)*100))\n",
    "print(\"recall on test %0.2ff%%\"%(recall_score(Y_test,Y_pred)*100))\n",
    "print(\"f1 on test %0.2ff%%\"%(f1_score(Y_test,Y_pred)*100))\n",
    "print(\"confusion matrix on test [[TN FP]\\n[FN TP]]\\n\")\n",
    "\n",
    "df_cm=pd.DataFrame(confusion_matrix(Y_test,Y_pred),range(2),range(2))\n",
    "sns.set(font_scale=1.4)\n",
    "sns.heatmap(df_cm,annot=True,annot_kws={'size':16},fmt='g')\n",
    "plt.show()"
   ]
  },
  {
   "cell_type": "code",
   "execution_count": null,
   "metadata": {},
   "outputs": [],
   "source": []
  }
 ],
 "metadata": {
  "kernelspec": {
   "display_name": "Python 3",
   "language": "python",
   "name": "python3"
  },
  "language_info": {
   "codemirror_mode": {
    "name": "ipython",
    "version": 3
   },
   "file_extension": ".py",
   "mimetype": "text/x-python",
   "name": "python",
   "nbconvert_exporter": "python",
   "pygments_lexer": "ipython3",
   "version": "3.7.0"
  }
 },
 "nbformat": 4,
 "nbformat_minor": 2
}
