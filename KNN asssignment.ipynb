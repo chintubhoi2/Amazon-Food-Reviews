{
 "cells": [
  {
   "cell_type": "code",
   "execution_count": 1,
   "metadata": {},
   "outputs": [],
   "source": [
    "#importing libraries\n",
    "%matplotlib inline\n",
    "import matplotlib.pyplot as plt\n",
    "import warnings\n",
    "warnings.filterwarnings(\"ignore\")\n",
    "import pandas as pd\n",
    "import numpy as np\n",
    "import seaborn as sns\n",
    "import nltk\n",
    "import random\n",
    "import gensim\n",
    "import pickle\n",
    "\n",
    "from sklearn.feature_extraction.text import CountVectorizer\n",
    "from sklearn.feature_extraction.text import TfidfVectorizer\n",
    "from sklearn.neighbors import KNeighborsClassifier\n",
    "from sklearn.model_selection import train_test_split\n",
    "from sklearn.model_selection import TimeSeriesSplit\n",
    "from sklearn.model_selection import GridSearchCV\n",
    "from sklearn import preprocessing\n",
    "\n",
    "#metrices\n",
    "from sklearn.metrics import confusion_matrix\n",
    "from sklearn.metrics import accuracy_score\n",
    "from sklearn.metrics import precision_score\n",
    "from sklearn.metrics import recall_score\n",
    "from sklearn.metrics import f1_score"
   ]
  },
  {
   "cell_type": "code",
   "execution_count": 2,
   "metadata": {},
   "outputs": [
    {
     "data": {
      "text/html": [
       "<div>\n",
       "<style scoped>\n",
       "    .dataframe tbody tr th:only-of-type {\n",
       "        vertical-align: middle;\n",
       "    }\n",
       "\n",
       "    .dataframe tbody tr th {\n",
       "        vertical-align: top;\n",
       "    }\n",
       "\n",
       "    .dataframe thead th {\n",
       "        text-align: right;\n",
       "    }\n",
       "</style>\n",
       "<table border=\"1\" class=\"dataframe\">\n",
       "  <thead>\n",
       "    <tr style=\"text-align: right;\">\n",
       "      <th></th>\n",
       "      <th>Unnamed: 0</th>\n",
       "      <th>Id</th>\n",
       "      <th>ProductId</th>\n",
       "      <th>UserId</th>\n",
       "      <th>ProfileName</th>\n",
       "      <th>HelpfulnessNumerator</th>\n",
       "      <th>HelpfulnessDenominator</th>\n",
       "      <th>Score</th>\n",
       "      <th>Time</th>\n",
       "      <th>Summary</th>\n",
       "      <th>Text</th>\n",
       "      <th>CleanedText</th>\n",
       "    </tr>\n",
       "  </thead>\n",
       "  <tbody>\n",
       "    <tr>\n",
       "      <th>0</th>\n",
       "      <td>138706</td>\n",
       "      <td>150524</td>\n",
       "      <td>0006641040</td>\n",
       "      <td>ACITT7DI6IDDL</td>\n",
       "      <td>shari zychinski</td>\n",
       "      <td>0</td>\n",
       "      <td>0</td>\n",
       "      <td>1</td>\n",
       "      <td>939340800</td>\n",
       "      <td>EVERY book is educational</td>\n",
       "      <td>this witty little book makes my son laugh at l...</td>\n",
       "      <td>witti littl book make son laugh loud recit car...</td>\n",
       "    </tr>\n",
       "    <tr>\n",
       "      <th>1</th>\n",
       "      <td>138688</td>\n",
       "      <td>150506</td>\n",
       "      <td>0006641040</td>\n",
       "      <td>A2IW4PEEKO2R0U</td>\n",
       "      <td>Tracy</td>\n",
       "      <td>1</td>\n",
       "      <td>1</td>\n",
       "      <td>1</td>\n",
       "      <td>1194739200</td>\n",
       "      <td>Love the book, miss the hard cover version</td>\n",
       "      <td>I grew up reading these Sendak books, and watc...</td>\n",
       "      <td>grew read sendak book watch realli rosi movi i...</td>\n",
       "    </tr>\n",
       "    <tr>\n",
       "      <th>2</th>\n",
       "      <td>138689</td>\n",
       "      <td>150507</td>\n",
       "      <td>0006641040</td>\n",
       "      <td>A1S4A3IQ2MU7V4</td>\n",
       "      <td>sally sue \"sally sue\"</td>\n",
       "      <td>1</td>\n",
       "      <td>1</td>\n",
       "      <td>1</td>\n",
       "      <td>1191456000</td>\n",
       "      <td>chicken soup with rice months</td>\n",
       "      <td>This is a fun way for children to learn their ...</td>\n",
       "      <td>fun way children learn month year learn poem t...</td>\n",
       "    </tr>\n",
       "    <tr>\n",
       "      <th>3</th>\n",
       "      <td>138690</td>\n",
       "      <td>150508</td>\n",
       "      <td>0006641040</td>\n",
       "      <td>AZGXZ2UUK6X</td>\n",
       "      <td>Catherine Hallberg \"(Kate)\"</td>\n",
       "      <td>1</td>\n",
       "      <td>1</td>\n",
       "      <td>1</td>\n",
       "      <td>1076025600</td>\n",
       "      <td>a good swingy rhythm for reading aloud</td>\n",
       "      <td>This is a great little book to read aloud- it ...</td>\n",
       "      <td>great littl book read aloud- nice rhythm well ...</td>\n",
       "    </tr>\n",
       "    <tr>\n",
       "      <th>4</th>\n",
       "      <td>138691</td>\n",
       "      <td>150509</td>\n",
       "      <td>0006641040</td>\n",
       "      <td>A3CMRKGE0P909G</td>\n",
       "      <td>Teresa</td>\n",
       "      <td>3</td>\n",
       "      <td>4</td>\n",
       "      <td>1</td>\n",
       "      <td>1018396800</td>\n",
       "      <td>A great way to learn the months</td>\n",
       "      <td>This is a book of poetry about the months of t...</td>\n",
       "      <td>book poetri month year goe month cute littl po...</td>\n",
       "    </tr>\n",
       "  </tbody>\n",
       "</table>\n",
       "</div>"
      ],
      "text/plain": [
       "   Unnamed: 0      Id   ProductId          UserId  \\\n",
       "0      138706  150524  0006641040   ACITT7DI6IDDL   \n",
       "1      138688  150506  0006641040  A2IW4PEEKO2R0U   \n",
       "2      138689  150507  0006641040  A1S4A3IQ2MU7V4   \n",
       "3      138690  150508  0006641040     AZGXZ2UUK6X   \n",
       "4      138691  150509  0006641040  A3CMRKGE0P909G   \n",
       "\n",
       "                   ProfileName  HelpfulnessNumerator  HelpfulnessDenominator  \\\n",
       "0              shari zychinski                     0                       0   \n",
       "1                        Tracy                     1                       1   \n",
       "2        sally sue \"sally sue\"                     1                       1   \n",
       "3  Catherine Hallberg \"(Kate)\"                     1                       1   \n",
       "4                       Teresa                     3                       4   \n",
       "\n",
       "   Score        Time                                     Summary  \\\n",
       "0      1   939340800                   EVERY book is educational   \n",
       "1      1  1194739200  Love the book, miss the hard cover version   \n",
       "2      1  1191456000               chicken soup with rice months   \n",
       "3      1  1076025600      a good swingy rhythm for reading aloud   \n",
       "4      1  1018396800             A great way to learn the months   \n",
       "\n",
       "                                                Text  \\\n",
       "0  this witty little book makes my son laugh at l...   \n",
       "1  I grew up reading these Sendak books, and watc...   \n",
       "2  This is a fun way for children to learn their ...   \n",
       "3  This is a great little book to read aloud- it ...   \n",
       "4  This is a book of poetry about the months of t...   \n",
       "\n",
       "                                         CleanedText  \n",
       "0  witti littl book make son laugh loud recit car...  \n",
       "1  grew read sendak book watch realli rosi movi i...  \n",
       "2  fun way children learn month year learn poem t...  \n",
       "3  great littl book read aloud- nice rhythm well ...  \n",
       "4  book poetri month year goe month cute littl po...  "
      ]
     },
     "execution_count": 2,
     "metadata": {},
     "output_type": "execute_result"
    }
   ],
   "source": [
    "#reading preprocessed file\n",
    "df=pd.read_csv(\"final.csv\")\n",
    "df.head()"
   ]
  },
  {
   "cell_type": "code",
   "execution_count": 3,
   "metadata": {},
   "outputs": [
    {
     "data": {
      "text/html": [
       "<div>\n",
       "<style scoped>\n",
       "    .dataframe tbody tr th:only-of-type {\n",
       "        vertical-align: middle;\n",
       "    }\n",
       "\n",
       "    .dataframe tbody tr th {\n",
       "        vertical-align: top;\n",
       "    }\n",
       "\n",
       "    .dataframe thead th {\n",
       "        text-align: right;\n",
       "    }\n",
       "</style>\n",
       "<table border=\"1\" class=\"dataframe\">\n",
       "  <thead>\n",
       "    <tr style=\"text-align: right;\">\n",
       "      <th></th>\n",
       "      <th>Unnamed: 0</th>\n",
       "      <th>Id</th>\n",
       "      <th>ProductId</th>\n",
       "      <th>UserId</th>\n",
       "      <th>ProfileName</th>\n",
       "      <th>HelpfulnessNumerator</th>\n",
       "      <th>HelpfulnessDenominator</th>\n",
       "      <th>Score</th>\n",
       "      <th>Time</th>\n",
       "      <th>Summary</th>\n",
       "      <th>Text</th>\n",
       "      <th>CleanedText</th>\n",
       "    </tr>\n",
       "  </thead>\n",
       "  <tbody>\n",
       "    <tr>\n",
       "      <th>313985</th>\n",
       "      <td>68043</td>\n",
       "      <td>73958</td>\n",
       "      <td>B004JRKEH4</td>\n",
       "      <td>AISSIRI0N0I57</td>\n",
       "      <td>Adam</td>\n",
       "      <td>0</td>\n",
       "      <td>0</td>\n",
       "      <td>1</td>\n",
       "      <td>1316044800</td>\n",
       "      <td>Delicious at home Taco Bell</td>\n",
       "      <td>After trying both the Chipotle as well as the ...</td>\n",
       "      <td>tri chipotl well spici ranchero sauc happi tac...</td>\n",
       "    </tr>\n",
       "    <tr>\n",
       "      <th>337078</th>\n",
       "      <td>483209</td>\n",
       "      <td>522469</td>\n",
       "      <td>B005EZJXVS</td>\n",
       "      <td>A3CUFOB7L6ZHAE</td>\n",
       "      <td>mamahall</td>\n",
       "      <td>0</td>\n",
       "      <td>0</td>\n",
       "      <td>1</td>\n",
       "      <td>1325894400</td>\n",
       "      <td>great snack for on the go</td>\n",
       "      <td>My children (ages 2 and 6) both love Strawberr...</td>\n",
       "      <td>children age 2 6 love strawberri puff great sn...</td>\n",
       "    </tr>\n",
       "    <tr>\n",
       "      <th>32801</th>\n",
       "      <td>426748</td>\n",
       "      <td>461515</td>\n",
       "      <td>B000BEZVW2</td>\n",
       "      <td>A1GHJ6YSR6SL5O</td>\n",
       "      <td>J. Crandall</td>\n",
       "      <td>0</td>\n",
       "      <td>0</td>\n",
       "      <td>1</td>\n",
       "      <td>1235779200</td>\n",
       "      <td>The best for a campfire cookout</td>\n",
       "      <td>Tired of missing out as a vegetarian during ca...</td>\n",
       "      <td>tire miss vegetarian campfir cookout well dog ...</td>\n",
       "    </tr>\n",
       "    <tr>\n",
       "      <th>262625</th>\n",
       "      <td>195229</td>\n",
       "      <td>211639</td>\n",
       "      <td>B0035N3ADS</td>\n",
       "      <td>AZV26LP92E6WU</td>\n",
       "      <td>M. Hammond \"ColemanFlGuy\"</td>\n",
       "      <td>2</td>\n",
       "      <td>4</td>\n",
       "      <td>1</td>\n",
       "      <td>1285804800</td>\n",
       "      <td>Ragu Pasta Sauce</td>\n",
       "      <td>My favorite one. I am very happy with this spa...</td>\n",
       "      <td>favorit one happi spaghetti sauc happi purchas...</td>\n",
       "    </tr>\n",
       "    <tr>\n",
       "      <th>106413</th>\n",
       "      <td>222108</td>\n",
       "      <td>240830</td>\n",
       "      <td>B000NBQUNW</td>\n",
       "      <td>A3GZH6KMR5MDB3</td>\n",
       "      <td>Melissa E. Lee</td>\n",
       "      <td>0</td>\n",
       "      <td>0</td>\n",
       "      <td>1</td>\n",
       "      <td>1249948800</td>\n",
       "      <td>My Doctor Recommended this product</td>\n",
       "      <td>My doctor recommended this product to lower my...</td>\n",
       "      <td>doctor recommend product lower cholestorol wor...</td>\n",
       "    </tr>\n",
       "  </tbody>\n",
       "</table>\n",
       "</div>"
      ],
      "text/plain": [
       "        Unnamed: 0      Id   ProductId          UserId  \\\n",
       "313985       68043   73958  B004JRKEH4   AISSIRI0N0I57   \n",
       "337078      483209  522469  B005EZJXVS  A3CUFOB7L6ZHAE   \n",
       "32801       426748  461515  B000BEZVW2  A1GHJ6YSR6SL5O   \n",
       "262625      195229  211639  B0035N3ADS   AZV26LP92E6WU   \n",
       "106413      222108  240830  B000NBQUNW  A3GZH6KMR5MDB3   \n",
       "\n",
       "                      ProfileName  HelpfulnessNumerator  \\\n",
       "313985                       Adam                     0   \n",
       "337078                   mamahall                     0   \n",
       "32801                 J. Crandall                     0   \n",
       "262625  M. Hammond \"ColemanFlGuy\"                     2   \n",
       "106413             Melissa E. Lee                     0   \n",
       "\n",
       "        HelpfulnessDenominator  Score        Time  \\\n",
       "313985                       0      1  1316044800   \n",
       "337078                       0      1  1325894400   \n",
       "32801                        0      1  1235779200   \n",
       "262625                       4      1  1285804800   \n",
       "106413                       0      1  1249948800   \n",
       "\n",
       "                                   Summary  \\\n",
       "313985         Delicious at home Taco Bell   \n",
       "337078           great snack for on the go   \n",
       "32801      The best for a campfire cookout   \n",
       "262625                    Ragu Pasta Sauce   \n",
       "106413  My Doctor Recommended this product   \n",
       "\n",
       "                                                     Text  \\\n",
       "313985  After trying both the Chipotle as well as the ...   \n",
       "337078  My children (ages 2 and 6) both love Strawberr...   \n",
       "32801   Tired of missing out as a vegetarian during ca...   \n",
       "262625  My favorite one. I am very happy with this spa...   \n",
       "106413  My doctor recommended this product to lower my...   \n",
       "\n",
       "                                              CleanedText  \n",
       "313985  tri chipotl well spici ranchero sauc happi tac...  \n",
       "337078  children age 2 6 love strawberri puff great sn...  \n",
       "32801   tire miss vegetarian campfir cookout well dog ...  \n",
       "262625  favorit one happi spaghetti sauc happi purchas...  \n",
       "106413  doctor recommend product lower cholestorol wor...  "
      ]
     },
     "execution_count": 3,
     "metadata": {},
     "output_type": "execute_result"
    }
   ],
   "source": [
    "#taking 50k datapoints for brue approach\n",
    "\n",
    "df_pos=df[df['Score']==1].sample(25000)\n",
    "df_neg=df[df['Score']==0].sample(25000)\n",
    "df_50k=pd.concat([df_pos,df_neg])\n",
    "df_50k.head()"
   ]
  },
  {
   "cell_type": "code",
   "execution_count": 4,
   "metadata": {},
   "outputs": [
    {
     "data": {
      "text/html": [
       "<div>\n",
       "<style scoped>\n",
       "    .dataframe tbody tr th:only-of-type {\n",
       "        vertical-align: middle;\n",
       "    }\n",
       "\n",
       "    .dataframe tbody tr th {\n",
       "        vertical-align: top;\n",
       "    }\n",
       "\n",
       "    .dataframe thead th {\n",
       "        text-align: right;\n",
       "    }\n",
       "</style>\n",
       "<table border=\"1\" class=\"dataframe\">\n",
       "  <thead>\n",
       "    <tr style=\"text-align: right;\">\n",
       "      <th></th>\n",
       "      <th>Unnamed: 0</th>\n",
       "      <th>Id</th>\n",
       "      <th>ProductId</th>\n",
       "      <th>UserId</th>\n",
       "      <th>ProfileName</th>\n",
       "      <th>HelpfulnessNumerator</th>\n",
       "      <th>HelpfulnessDenominator</th>\n",
       "      <th>Score</th>\n",
       "      <th>Time</th>\n",
       "      <th>Summary</th>\n",
       "      <th>Text</th>\n",
       "      <th>CleanedText</th>\n",
       "    </tr>\n",
       "  </thead>\n",
       "  <tbody>\n",
       "    <tr>\n",
       "      <th>263471</th>\n",
       "      <td>522108</td>\n",
       "      <td>564470</td>\n",
       "      <td>B0036Z3ULM</td>\n",
       "      <td>A1SH2LXCSNRKH4</td>\n",
       "      <td>gail robins</td>\n",
       "      <td>0</td>\n",
       "      <td>0</td>\n",
       "      <td>1</td>\n",
       "      <td>1284336000</td>\n",
       "      <td>Poppin' Good</td>\n",
       "      <td>Everything you want in popcorn.  Pop big kerna...</td>\n",
       "      <td>everyth want popcorn pop big kernal without lo...</td>\n",
       "    </tr>\n",
       "    <tr>\n",
       "      <th>337347</th>\n",
       "      <td>327788</td>\n",
       "      <td>354777</td>\n",
       "      <td>B005FN2QWM</td>\n",
       "      <td>A8QTQOS2J5ASK</td>\n",
       "      <td>Marasta</td>\n",
       "      <td>0</td>\n",
       "      <td>0</td>\n",
       "      <td>1</td>\n",
       "      <td>1317686400</td>\n",
       "      <td>Amazing</td>\n",
       "      <td>The pickles remind me of the pickles my grandm...</td>\n",
       "      <td>pickl remind pickl grandmoth use make total am...</td>\n",
       "    </tr>\n",
       "    <tr>\n",
       "      <th>211181</th>\n",
       "      <td>31499</td>\n",
       "      <td>34296</td>\n",
       "      <td>B001P3NU30</td>\n",
       "      <td>A3US651GJPUGJ5</td>\n",
       "      <td>Robert W Brown</td>\n",
       "      <td>0</td>\n",
       "      <td>1</td>\n",
       "      <td>1</td>\n",
       "      <td>1321660800</td>\n",
       "      <td>Great Product at a Great Price</td>\n",
       "      <td>I've got 2 Golden Retrievers that stand at the...</td>\n",
       "      <td>ive got 2 golden retriev stand cabinet door di...</td>\n",
       "    </tr>\n",
       "    <tr>\n",
       "      <th>37447</th>\n",
       "      <td>362327</td>\n",
       "      <td>391850</td>\n",
       "      <td>B000CQBZPG</td>\n",
       "      <td>A3U943NERKD7E0</td>\n",
       "      <td>Michael Lee</td>\n",
       "      <td>0</td>\n",
       "      <td>0</td>\n",
       "      <td>1</td>\n",
       "      <td>1294099200</td>\n",
       "      <td>Powerful stuff</td>\n",
       "      <td>The strong, spicy aroma (clove and cinnamon do...</td>\n",
       "      <td>strong spici aroma clove cinnamon domin make f...</td>\n",
       "    </tr>\n",
       "    <tr>\n",
       "      <th>260720</th>\n",
       "      <td>291457</td>\n",
       "      <td>315722</td>\n",
       "      <td>B0032OLLIG</td>\n",
       "      <td>A13VY0ZQM7QBAJ</td>\n",
       "      <td>H. Chen \"haochen3d.com\"</td>\n",
       "      <td>0</td>\n",
       "      <td>0</td>\n",
       "      <td>1</td>\n",
       "      <td>1348704000</td>\n",
       "      <td>The Mix Is Great.</td>\n",
       "      <td>First things first -- I don't remember seeing ...</td>\n",
       "      <td>first thing first -- dont rememb see sold pric...</td>\n",
       "    </tr>\n",
       "  </tbody>\n",
       "</table>\n",
       "</div>"
      ],
      "text/plain": [
       "        Unnamed: 0      Id   ProductId          UserId  \\\n",
       "263471      522108  564470  B0036Z3ULM  A1SH2LXCSNRKH4   \n",
       "337347      327788  354777  B005FN2QWM   A8QTQOS2J5ASK   \n",
       "211181       31499   34296  B001P3NU30  A3US651GJPUGJ5   \n",
       "37447       362327  391850  B000CQBZPG  A3U943NERKD7E0   \n",
       "260720      291457  315722  B0032OLLIG  A13VY0ZQM7QBAJ   \n",
       "\n",
       "                    ProfileName  HelpfulnessNumerator  HelpfulnessDenominator  \\\n",
       "263471              gail robins                     0                       0   \n",
       "337347                  Marasta                     0                       0   \n",
       "211181           Robert W Brown                     0                       1   \n",
       "37447               Michael Lee                     0                       0   \n",
       "260720  H. Chen \"haochen3d.com\"                     0                       0   \n",
       "\n",
       "        Score        Time                         Summary  \\\n",
       "263471      1  1284336000                    Poppin' Good   \n",
       "337347      1  1317686400                         Amazing   \n",
       "211181      1  1321660800  Great Product at a Great Price   \n",
       "37447       1  1294099200                  Powerful stuff   \n",
       "260720      1  1348704000               The Mix Is Great.   \n",
       "\n",
       "                                                     Text  \\\n",
       "263471  Everything you want in popcorn.  Pop big kerna...   \n",
       "337347  The pickles remind me of the pickles my grandm...   \n",
       "211181  I've got 2 Golden Retrievers that stand at the...   \n",
       "37447   The strong, spicy aroma (clove and cinnamon do...   \n",
       "260720  First things first -- I don't remember seeing ...   \n",
       "\n",
       "                                              CleanedText  \n",
       "263471  everyth want popcorn pop big kernal without lo...  \n",
       "337347  pickl remind pickl grandmoth use make total am...  \n",
       "211181  ive got 2 golden retriev stand cabinet door di...  \n",
       "37447   strong spici aroma clove cinnamon domin make f...  \n",
       "260720  first thing first -- dont rememb see sold pric...  "
      ]
     },
     "execution_count": 4,
     "metadata": {},
     "output_type": "execute_result"
    }
   ],
   "source": [
    "#taking 20k datapoints for kdtree approach\n",
    "\n",
    "df_pos=df[df['Score']==1].sample(10000)\n",
    "df_neg=df[df['Score']==0].sample(10000)\n",
    "df_20k=pd.concat([df_pos,df_neg])\n",
    "df_20k.head()"
   ]
  },
  {
   "cell_type": "code",
   "execution_count": 5,
   "metadata": {
    "scrolled": true
   },
   "outputs": [
    {
     "data": {
      "text/html": [
       "<div>\n",
       "<style scoped>\n",
       "    .dataframe tbody tr th:only-of-type {\n",
       "        vertical-align: middle;\n",
       "    }\n",
       "\n",
       "    .dataframe tbody tr th {\n",
       "        vertical-align: top;\n",
       "    }\n",
       "\n",
       "    .dataframe thead th {\n",
       "        text-align: right;\n",
       "    }\n",
       "</style>\n",
       "<table border=\"1\" class=\"dataframe\">\n",
       "  <thead>\n",
       "    <tr style=\"text-align: right;\">\n",
       "      <th></th>\n",
       "      <th>Unnamed: 0</th>\n",
       "      <th>Id</th>\n",
       "      <th>ProductId</th>\n",
       "      <th>UserId</th>\n",
       "      <th>ProfileName</th>\n",
       "      <th>HelpfulnessNumerator</th>\n",
       "      <th>HelpfulnessDenominator</th>\n",
       "      <th>Score</th>\n",
       "      <th>Time</th>\n",
       "      <th>Summary</th>\n",
       "      <th>Text</th>\n",
       "      <th>CleanedText</th>\n",
       "    </tr>\n",
       "  </thead>\n",
       "  <tbody>\n",
       "    <tr>\n",
       "      <th>427</th>\n",
       "      <td>417883</td>\n",
       "      <td>451903</td>\n",
       "      <td>B00004CXX9</td>\n",
       "      <td>A2DEE7F9XKP3ZR</td>\n",
       "      <td>jerome</td>\n",
       "      <td>0</td>\n",
       "      <td>1</td>\n",
       "      <td>1</td>\n",
       "      <td>959990400</td>\n",
       "      <td>Research</td>\n",
       "      <td>I'm getting crazy.&lt;p&gt;Is it really impossible t...</td>\n",
       "      <td>im get crazi realli imposs today find french v...</td>\n",
       "    </tr>\n",
       "    <tr>\n",
       "      <th>242</th>\n",
       "      <td>1145</td>\n",
       "      <td>1244</td>\n",
       "      <td>B00002Z754</td>\n",
       "      <td>A3B8RCEI0FXFI6</td>\n",
       "      <td>B G Chase</td>\n",
       "      <td>10</td>\n",
       "      <td>10</td>\n",
       "      <td>1</td>\n",
       "      <td>962236800</td>\n",
       "      <td>WOW Make your own 'slickers' !</td>\n",
       "      <td>I just received my shipment and could hardly w...</td>\n",
       "      <td>receiv shipment could hard wait tri product lo...</td>\n",
       "    </tr>\n",
       "    <tr>\n",
       "      <th>425</th>\n",
       "      <td>417901</td>\n",
       "      <td>451923</td>\n",
       "      <td>B00004CXX9</td>\n",
       "      <td>ANIMV3SPDD8SH</td>\n",
       "      <td>Guy De Federicis</td>\n",
       "      <td>1</td>\n",
       "      <td>12</td>\n",
       "      <td>0</td>\n",
       "      <td>992217600</td>\n",
       "      <td>CASPER IS THE GHOST WITH THE MOST</td>\n",
       "      <td>Michael Keaton brings no distinguishing charac...</td>\n",
       "      <td>michael keaton bring distinguish characterist ...</td>\n",
       "    </tr>\n",
       "    <tr>\n",
       "      <th>864</th>\n",
       "      <td>138014</td>\n",
       "      <td>149785</td>\n",
       "      <td>B00004S1C6</td>\n",
       "      <td>A1KZ8KEBD4FONY</td>\n",
       "      <td>W. Zientek-Sico</td>\n",
       "      <td>60</td>\n",
       "      <td>61</td>\n",
       "      <td>1</td>\n",
       "      <td>1035504000</td>\n",
       "      <td>Wonderful product gives professional results</td>\n",
       "      <td>The spectra paste food colors are simply fanta...</td>\n",
       "      <td>spectra past food color simpli fantast provid ...</td>\n",
       "    </tr>\n",
       "    <tr>\n",
       "      <th>1002</th>\n",
       "      <td>333924</td>\n",
       "      <td>361311</td>\n",
       "      <td>B00005IX96</td>\n",
       "      <td>A24IUOMVERXVEG</td>\n",
       "      <td>Rick \"rick_street\"</td>\n",
       "      <td>11</td>\n",
       "      <td>11</td>\n",
       "      <td>1</td>\n",
       "      <td>1036108800</td>\n",
       "      <td>Great Easy cup of Espresso</td>\n",
       "      <td>I've purchased both the Espressione Espresso (...</td>\n",
       "      <td>ive purchas espression espresso classic 100% a...</td>\n",
       "    </tr>\n",
       "  </tbody>\n",
       "</table>\n",
       "</div>"
      ],
      "text/plain": [
       "      Unnamed: 0      Id   ProductId          UserId         ProfileName  \\\n",
       "427       417883  451903  B00004CXX9  A2DEE7F9XKP3ZR              jerome   \n",
       "242         1145    1244  B00002Z754  A3B8RCEI0FXFI6           B G Chase   \n",
       "425       417901  451923  B00004CXX9   ANIMV3SPDD8SH    Guy De Federicis   \n",
       "864       138014  149785  B00004S1C6  A1KZ8KEBD4FONY     W. Zientek-Sico   \n",
       "1002      333924  361311  B00005IX96  A24IUOMVERXVEG  Rick \"rick_street\"   \n",
       "\n",
       "      HelpfulnessNumerator  HelpfulnessDenominator  Score        Time  \\\n",
       "427                      0                       1      1   959990400   \n",
       "242                     10                      10      1   962236800   \n",
       "425                      1                      12      0   992217600   \n",
       "864                     60                      61      1  1035504000   \n",
       "1002                    11                      11      1  1036108800   \n",
       "\n",
       "                                           Summary  \\\n",
       "427                                       Research   \n",
       "242                 WOW Make your own 'slickers' !   \n",
       "425              CASPER IS THE GHOST WITH THE MOST   \n",
       "864   Wonderful product gives professional results   \n",
       "1002                    Great Easy cup of Espresso   \n",
       "\n",
       "                                                   Text  \\\n",
       "427   I'm getting crazy.<p>Is it really impossible t...   \n",
       "242   I just received my shipment and could hardly w...   \n",
       "425   Michael Keaton brings no distinguishing charac...   \n",
       "864   The spectra paste food colors are simply fanta...   \n",
       "1002  I've purchased both the Espressione Espresso (...   \n",
       "\n",
       "                                            CleanedText  \n",
       "427   im get crazi realli imposs today find french v...  \n",
       "242   receiv shipment could hard wait tri product lo...  \n",
       "425   michael keaton bring distinguish characterist ...  \n",
       "864   spectra past food color simpli fantast provid ...  \n",
       "1002  ive purchas espression espresso classic 100% a...  "
      ]
     },
     "execution_count": 5,
     "metadata": {},
     "output_type": "execute_result"
    }
   ],
   "source": [
    "#sorting by timestaamp\n",
    "df_50k.sort_values(\"Time\",inplace=True)\n",
    "df_50k.head()"
   ]
  },
  {
   "cell_type": "code",
   "execution_count": 6,
   "metadata": {},
   "outputs": [
    {
     "data": {
      "text/html": [
       "<div>\n",
       "<style scoped>\n",
       "    .dataframe tbody tr th:only-of-type {\n",
       "        vertical-align: middle;\n",
       "    }\n",
       "\n",
       "    .dataframe tbody tr th {\n",
       "        vertical-align: top;\n",
       "    }\n",
       "\n",
       "    .dataframe thead th {\n",
       "        text-align: right;\n",
       "    }\n",
       "</style>\n",
       "<table border=\"1\" class=\"dataframe\">\n",
       "  <thead>\n",
       "    <tr style=\"text-align: right;\">\n",
       "      <th></th>\n",
       "      <th>Unnamed: 0</th>\n",
       "      <th>Id</th>\n",
       "      <th>ProductId</th>\n",
       "      <th>UserId</th>\n",
       "      <th>ProfileName</th>\n",
       "      <th>HelpfulnessNumerator</th>\n",
       "      <th>HelpfulnessDenominator</th>\n",
       "      <th>Score</th>\n",
       "      <th>Time</th>\n",
       "      <th>Summary</th>\n",
       "      <th>Text</th>\n",
       "      <th>CleanedText</th>\n",
       "    </tr>\n",
       "  </thead>\n",
       "  <tbody>\n",
       "    <tr>\n",
       "      <th>1117</th>\n",
       "      <td>137933</td>\n",
       "      <td>149701</td>\n",
       "      <td>B00006L2ZT</td>\n",
       "      <td>A2STZ646VQE8QI</td>\n",
       "      <td>anomalogue</td>\n",
       "      <td>1</td>\n",
       "      <td>3</td>\n",
       "      <td>1</td>\n",
       "      <td>1036540800</td>\n",
       "      <td>This is the best Camper Van Beethoven</td>\n",
       "      <td>This is a  beautiful repackaging of Camper Van...</td>\n",
       "      <td>beauti repackag camper van beethoven first thr...</td>\n",
       "    </tr>\n",
       "    <tr>\n",
       "      <th>4781</th>\n",
       "      <td>264269</td>\n",
       "      <td>286453</td>\n",
       "      <td>B0000DJ7WI</td>\n",
       "      <td>A375QRG43POEW6</td>\n",
       "      <td>dndnd</td>\n",
       "      <td>23</td>\n",
       "      <td>25</td>\n",
       "      <td>0</td>\n",
       "      <td>1069977600</td>\n",
       "      <td>Stay Away...</td>\n",
       "      <td>This product ships in great packaging and it l...</td>\n",
       "      <td>product ship great packag look good tast horri...</td>\n",
       "    </tr>\n",
       "    <tr>\n",
       "      <th>3564</th>\n",
       "      <td>405093</td>\n",
       "      <td>438064</td>\n",
       "      <td>B0000DBN2F</td>\n",
       "      <td>A281NPSIMI1C2R</td>\n",
       "      <td>Rebecca of Amazon \"The Rebecca Review\"</td>\n",
       "      <td>0</td>\n",
       "      <td>0</td>\n",
       "      <td>1</td>\n",
       "      <td>1070582400</td>\n",
       "      <td>Spice It Up for the Holidays</td>\n",
       "      <td>Blend a little apple cider mix into your Tazo ...</td>\n",
       "      <td>blend littl appl cider mix tazo passion tea se...</td>\n",
       "    </tr>\n",
       "    <tr>\n",
       "      <th>5007</th>\n",
       "      <td>359912</td>\n",
       "      <td>389289</td>\n",
       "      <td>B0000DYZCG</td>\n",
       "      <td>A1U4PHVIQPBCD2</td>\n",
       "      <td>Dan Murphy</td>\n",
       "      <td>2</td>\n",
       "      <td>4</td>\n",
       "      <td>1</td>\n",
       "      <td>1071187200</td>\n",
       "      <td>Excellent quality and service!</td>\n",
       "      <td>I received this as a gift. Great quality and o...</td>\n",
       "      <td>receiv gift great qualiti on-tim deliveri bunc...</td>\n",
       "    </tr>\n",
       "    <tr>\n",
       "      <th>3</th>\n",
       "      <td>138690</td>\n",
       "      <td>150508</td>\n",
       "      <td>0006641040</td>\n",
       "      <td>AZGXZ2UUK6X</td>\n",
       "      <td>Catherine Hallberg \"(Kate)\"</td>\n",
       "      <td>1</td>\n",
       "      <td>1</td>\n",
       "      <td>1</td>\n",
       "      <td>1076025600</td>\n",
       "      <td>a good swingy rhythm for reading aloud</td>\n",
       "      <td>This is a great little book to read aloud- it ...</td>\n",
       "      <td>great littl book read aloud- nice rhythm well ...</td>\n",
       "    </tr>\n",
       "  </tbody>\n",
       "</table>\n",
       "</div>"
      ],
      "text/plain": [
       "      Unnamed: 0      Id   ProductId          UserId  \\\n",
       "1117      137933  149701  B00006L2ZT  A2STZ646VQE8QI   \n",
       "4781      264269  286453  B0000DJ7WI  A375QRG43POEW6   \n",
       "3564      405093  438064  B0000DBN2F  A281NPSIMI1C2R   \n",
       "5007      359912  389289  B0000DYZCG  A1U4PHVIQPBCD2   \n",
       "3         138690  150508  0006641040     AZGXZ2UUK6X   \n",
       "\n",
       "                                 ProfileName  HelpfulnessNumerator  \\\n",
       "1117                              anomalogue                     1   \n",
       "4781                                   dndnd                    23   \n",
       "3564  Rebecca of Amazon \"The Rebecca Review\"                     0   \n",
       "5007                              Dan Murphy                     2   \n",
       "3                Catherine Hallberg \"(Kate)\"                     1   \n",
       "\n",
       "      HelpfulnessDenominator  Score        Time  \\\n",
       "1117                       3      1  1036540800   \n",
       "4781                      25      0  1069977600   \n",
       "3564                       0      1  1070582400   \n",
       "5007                       4      1  1071187200   \n",
       "3                          1      1  1076025600   \n",
       "\n",
       "                                     Summary  \\\n",
       "1117   This is the best Camper Van Beethoven   \n",
       "4781                            Stay Away...   \n",
       "3564            Spice It Up for the Holidays   \n",
       "5007          Excellent quality and service!   \n",
       "3     a good swingy rhythm for reading aloud   \n",
       "\n",
       "                                                   Text  \\\n",
       "1117  This is a  beautiful repackaging of Camper Van...   \n",
       "4781  This product ships in great packaging and it l...   \n",
       "3564  Blend a little apple cider mix into your Tazo ...   \n",
       "5007  I received this as a gift. Great quality and o...   \n",
       "3     This is a great little book to read aloud- it ...   \n",
       "\n",
       "                                            CleanedText  \n",
       "1117  beauti repackag camper van beethoven first thr...  \n",
       "4781  product ship great packag look good tast horri...  \n",
       "3564  blend littl appl cider mix tazo passion tea se...  \n",
       "5007  receiv gift great qualiti on-tim deliveri bunc...  \n",
       "3     great littl book read aloud- nice rhythm well ...  "
      ]
     },
     "execution_count": 6,
     "metadata": {},
     "output_type": "execute_result"
    }
   ],
   "source": [
    "df_20k.sort_values(\"Time\",inplace=True)\n",
    "df_20k.head()"
   ]
  },
  {
   "cell_type": "code",
   "execution_count": 7,
   "metadata": {},
   "outputs": [],
   "source": [
    "#breaking the data into train and test for brute method\n",
    "\n",
    "X_train,X_test,Y_train,Y_test=train_test_split(df_50k['CleanedText'],df_50k['Score'],test_size=0.3,shuffle=False)"
   ]
  },
  {
   "cell_type": "code",
   "execution_count": 8,
   "metadata": {},
   "outputs": [],
   "source": [
    "#breaking the data into train and test for kd-tree\n",
    "\n",
    "X_train_1,X_test_1,Y_train_1,Y_test_1=train_test_split(df_20k['CleanedText'],df_20k['Score'],test_size=0.3,shuffle=False)"
   ]
  },
  {
   "cell_type": "markdown",
   "metadata": {},
   "source": [
    "# unigram"
   ]
  },
  {
   "cell_type": "code",
   "execution_count": 9,
   "metadata": {},
   "outputs": [],
   "source": [
    "unigram=CountVectorizer()\n",
    "X_train_uni=unigram.fit_transform(X_train)\n",
    "X_test_uni=unigram.transform(X_test)"
   ]
  },
  {
   "cell_type": "code",
   "execution_count": 10,
   "metadata": {},
   "outputs": [],
   "source": [
    "X_train_uni_1=unigram.fit_transform(X_train_1)\n",
    "X_test_uni_1=unigram.transform(X_test_1)"
   ]
  },
  {
   "cell_type": "code",
   "execution_count": 11,
   "metadata": {},
   "outputs": [
    {
     "name": "stdout",
     "output_type": "stream",
     "text": [
      "shape of train :  (35000, 31706)\n",
      "shape of test :  (15000, 31706)\n"
     ]
    }
   ],
   "source": [
    "#normalizing the data\n",
    "X_train_uni=preprocessing.normalize(X_train_uni)\n",
    "X_test_uni=preprocessing.normalize(X_test_uni)\n",
    "\n",
    "print(\"shape of train : \",X_train_uni.shape)\n",
    "print(\"shape of test : \",X_test_uni.shape)\n"
   ]
  },
  {
   "cell_type": "code",
   "execution_count": 12,
   "metadata": {},
   "outputs": [
    {
     "name": "stdout",
     "output_type": "stream",
     "text": [
      "shape of train :  (14000, 19479)\n",
      "shape of test :  (6000, 19479)\n"
     ]
    }
   ],
   "source": [
    "#normalizing the data\n",
    "X_train_uni_1=preprocessing.normalize(X_train_uni_1)\n",
    "X_test_uni_1=preprocessing.normalize(X_test_uni_1)\n",
    "\n",
    "print(\"shape of train : \",X_train_uni_1.shape)\n",
    "print(\"shape of test : \",X_test_uni_1.shape)\n"
   ]
  },
  {
   "cell_type": "code",
   "execution_count": null,
   "metadata": {},
   "outputs": [],
   "source": []
  },
  {
   "cell_type": "code",
   "execution_count": 13,
   "metadata": {},
   "outputs": [
    {
     "name": "stdout",
     "output_type": "stream",
     "text": [
      "(3190, 31706) (3181, 31706)\n",
      "(6371, 31706) (3181, 31706)\n",
      "(9552, 31706) (3181, 31706)\n",
      "(12733, 31706) (3181, 31706)\n",
      "(15914, 31706) (3181, 31706)\n",
      "(19095, 31706) (3181, 31706)\n",
      "(22276, 31706) (3181, 31706)\n",
      "(25457, 31706) (3181, 31706)\n",
      "(28638, 31706) (3181, 31706)\n",
      "(31819, 31706) (3181, 31706)\n"
     ]
    }
   ],
   "source": [
    "#10 fold cross validation\n",
    "tscv=TimeSeriesSplit(n_splits=10)\n",
    "for train,cv in tscv.split(X_train_uni):\n",
    "    print(X_train_uni[train].shape,X_train_uni[cv].shape)"
   ]
  },
  {
   "cell_type": "markdown",
   "metadata": {},
   "source": [
    "## Applying KNN\n",
    "\n",
    "### Brute algorithm"
   ]
  },
  {
   "cell_type": "code",
   "execution_count": null,
   "metadata": {},
   "outputs": [
    {
     "name": "stdout",
     "output_type": "stream",
     "text": [
      "Fitting 10 folds for each of 15 candidates, totalling 150 fits\n"
     ]
    },
    {
     "name": "stderr",
     "output_type": "stream",
     "text": [
      "[Parallel(n_jobs=1)]: Using backend SequentialBackend with 1 concurrent workers.\n"
     ]
    }
   ],
   "source": [
    "knn=KNeighborsClassifier(algorithm='brute')\n",
    "param_grid={'n_neighbors':np.arange(1,30,2)}\n",
    "gsv=GridSearchCV(knn,param_grid,cv=tscv,verbose=1,scoring='roc_auc')\n",
    "gsv.fit(X_train_uni,Y_train)"
   ]
  },
  {
   "cell_type": "code",
   "execution_count": 13,
   "metadata": {},
   "outputs": [
    {
     "name": "stdout",
     "output_type": "stream",
     "text": [
      "best hyperparameter :  {'n_neighbors': 29}\n",
      "best accuracy :  81.55806027002316\n"
     ]
    }
   ],
   "source": [
    "print(\"best hyperparameter : \",gsv.best_params_)\n",
    "print(\"best accuracy : \",gsv.best_score_*100)"
   ]
  },
  {
   "cell_type": "code",
   "execution_count": 15,
   "metadata": {},
   "outputs": [],
   "source": [
    "train_auc=gsv.cv_results_['mean_train_score']\n",
    "train_auc_std=gsv.cv_results_['std_train_score']\n",
    "cv_auc=gsv.cv_results_['mean_test_score']\n",
    "cv_auc_std=gsv.cv_results_['std_test_score']"
   ]
  },
  {
   "cell_type": "code",
   "execution_count": 18,
   "metadata": {},
   "outputs": [],
   "source": [
    "k=np.arange(1,30,2)"
   ]
  },
  {
   "cell_type": "code",
   "execution_count": 20,
   "metadata": {},
   "outputs": [
    {
     "data": {
      "image/png": "[encoded data removed]",
      "text/plain": [
       "<Figure size 432x288 with 1 Axes>"
      ]
     },
     "metadata": {
      "needs_background": "light"
     },
     "output_type": "display_data"
    }
   ],
   "source": [
    "plt.plot(k,train_auc,label=\"Train_AUC\")\n",
    "plt.gca().fill_between(k,train_auc-train_auc_std,train_auc+train_auc_std,alpha=0.2,color='darkblue')\n",
    "\n",
    "plt.plot(k,cv_auc,label=\"cv_AUC\")\n",
    "plt.gca().fill_between(k,cv_auc-cv_auc_std,cv_auc+cv_auc_std,alpha=0.2,color=\"darkorange\")\n",
    "\n",
    "plt.legend()\n",
    "plt.xlabel(\"k:hyperparam\")\n",
    "plt.ylabel(\"AUC\")\n",
    "plt.title(\"Error Plots\")\n",
    "plt.show()"
   ]
  },
  {
   "cell_type": "code",
   "execution_count": 21,
   "metadata": {},
   "outputs": [
    {
     "data": {
      "text/plain": [
       "KNeighborsClassifier(algorithm='auto', leaf_size=30, metric='minkowski',\n",
       "           metric_params=None, n_jobs=None, n_neighbors=29, p=2,\n",
       "           weights='uniform')"
      ]
     },
     "execution_count": 21,
     "metadata": {},
     "output_type": "execute_result"
    }
   ],
   "source": [
    "#testing on test data\n",
    "\n",
    "from sklearn.metrics import roc_curve,auc\n",
    "\n",
    "knn=KNeighborsClassifier(n_neighbors=29)\n",
    "knn.fit(X_train_uni,Y_train)"
   ]
  },
  {
   "cell_type": "code",
   "execution_count": 23,
   "metadata": {},
   "outputs": [
    {
     "data": {
      "image/png": "[encoded data removed]",
      "text/plain": [
       "<Figure size 432x288 with 1 Axes>"
      ]
     },
     "metadata": {
      "needs_background": "light"
     },
     "output_type": "display_data"
    }
   ],
   "source": [
    "train_fpr,train_tpr,threshold=roc_curve(Y_train,knn.predict_proba(X_train_uni)[:,1])\n",
    "test_fpr,test_tpr,threshold=roc_curve(Y_test,knn.predict_proba(X_test_uni)[:,1])\n",
    "\n",
    "plt.plot(train_fpr,train_tpr,label=\"Train_auc = \"+str(auc(train_fpr,train_tpr)))\n",
    "plt.plot(test_fpr,test_tpr,label=\"Test_auc = \"+str(auc(test_fpr,test_tpr)))\n",
    "\n",
    "plt.legend()\n",
    "plt.xlabel(\"K : hyperparameter\")\n",
    "plt.ylabel(\"AUC\")\n",
    "plt.title(\"Error plots\")\n",
    "plt.show()"
   ]
  },
  {
   "cell_type": "code",
   "execution_count": 24,
   "metadata": {},
   "outputs": [
    {
     "name": "stdout",
     "output_type": "stream",
     "text": [
      "confusion matrix on train data : \n",
      "[[13068  4081]\n",
      " [ 3376 14475]]\n",
      "confusion matrix on test data : \n",
      "[[5773 2078]\n",
      " [1621 5528]]\n"
     ]
    }
   ],
   "source": [
    "print(\"confusion matrix on train data : \")\n",
    "print(confusion_matrix(Y_train,knn.predict(X_train_uni)))\n",
    "\n",
    "print(\"confusion matrix on test data : \")\n",
    "print(confusion_matrix(Y_test,knn.predict(X_test_uni)))"
   ]
  },
  {
   "cell_type": "markdown",
   "metadata": {},
   "source": [
    "## Kd-Tree"
   ]
  },
  {
   "cell_type": "code",
   "execution_count": 50,
   "metadata": {},
   "outputs": [
    {
     "name": "stdout",
     "output_type": "stream",
     "text": [
      "Fitting 10 folds for each of 17 candidates, totalling 170 fits\n"
     ]
    },
    {
     "name": "stderr",
     "output_type": "stream",
     "text": [
      "[Parallel(n_jobs=1)]: Using backend SequentialBackend with 1 concurrent workers.\n",
      "[Parallel(n_jobs=1)]: Done 170 out of 170 | elapsed:  9.6min finished\n"
     ]
    },
    {
     "data": {
      "text/plain": [
       "GridSearchCV(cv=TimeSeriesSplit(max_train_size=None, n_splits=10),\n",
       "       error_score='raise-deprecating',\n",
       "       estimator=KNeighborsClassifier(algorithm='kd_tree', leaf_size=30, metric='minkowski',\n",
       "           metric_params=None, n_jobs=None, n_neighbors=5, p=2,\n",
       "           weights='uniform'),\n",
       "       fit_params=None, iid='warn', n_jobs=None,\n",
       "       param_grid={'n_neighbors': array([ 1,  4,  7, 10, 13, 16, 19, 22, 25, 28, 31, 34, 37, 40, 43, 46, 49])},\n",
       "       pre_dispatch='2*n_jobs', refit=True, return_train_score='warn',\n",
       "       scoring='roc_auc', verbose=1)"
      ]
     },
     "execution_count": 50,
     "metadata": {},
     "output_type": "execute_result"
    }
   ],
   "source": [
    "knn=KNeighborsClassifier(algorithm='kd_tree')\n",
    "param_grid={'n_neighbors':np.arange(1,30,3)}\n",
    "gsv=GridSearchCV(knn,param_grid,cv=tscv,verbose=1,scoring='roc_auc')\n",
    "gsv.fit(X_train_uni_1,Y_train_1)"
   ]
  },
  {
   "cell_type": "code",
   "execution_count": 51,
   "metadata": {},
   "outputs": [
    {
     "name": "stdout",
     "output_type": "stream",
     "text": [
      "best hyperparameter :  {'n_neighbors': 49}\n"
     ]
    }
   ],
   "source": [
    "print(\"best hyperparameter : \",gsv.best_params_)"
   ]
  },
  {
   "cell_type": "code",
   "execution_count": 37,
   "metadata": {},
   "outputs": [],
   "source": [
    "train_auc=gsv.cv_results_['mean_train_score']\n",
    "train_auc_std=gsv.cv_results_['std_train_score']\n",
    "cv_auc=gsv.cv_results_['mean_test_score']\n",
    "cv_auc_std=gsv.cv_results_['std_test_score']"
   ]
  },
  {
   "cell_type": "code",
   "execution_count": 38,
   "metadata": {},
   "outputs": [
    {
     "data": {
      "image/png": "[encoded data removed]",
      "text/plain": [
       "<Figure size 432x288 with 1 Axes>"
      ]
     },
     "metadata": {
      "needs_background": "light"
     },
     "output_type": "display_data"
    }
   ],
   "source": [
    "plt.plot(k,train_auc,label=\"Train_AUC\")\n",
    "plt.gca().fill_between(k,train_auc-train_auc_std,train_auc+train_auc_std,alpha=0.2,color='darkblue')\n",
    "\n",
    "plt.plot(k,cv_auc,label=\"cv_AUC\")\n",
    "plt.gca().fill_between(k,cv_auc-cv_auc_std,cv_auc+cv_auc_std,alpha=0.2,color=\"darkorange\")\n",
    "\n",
    "plt.legend()\n",
    "plt.xlabel(\"k:hyperparam\")\n",
    "plt.ylabel(\"AUC\")\n",
    "plt.title(\"Error Plots\")\n",
    "plt.show()"
   ]
  },
  {
   "cell_type": "code",
   "execution_count": 39,
   "metadata": {},
   "outputs": [
    {
     "data": {
      "text/plain": [
       "KNeighborsClassifier(algorithm='auto', leaf_size=30, metric='minkowski',\n",
       "           metric_params=None, n_jobs=None, n_neighbors=29, p=2,\n",
       "           weights='uniform')"
      ]
     },
     "execution_count": 39,
     "metadata": {},
     "output_type": "execute_result"
    }
   ],
   "source": [
    "#testing on test data\n",
    "\n",
    "from sklearn.metrics import roc_curve,auc\n",
    "\n",
    "knn=KNeighborsClassifier(n_neighbors=29)\n",
    "knn.fit(X_train_uni_1,Y_train_1)"
   ]
  },
  {
   "cell_type": "code",
   "execution_count": 40,
   "metadata": {},
   "outputs": [
    {
     "data": {
      "image/png": "[encoded data removed]",
      "text/plain": [
       "<Figure size 432x288 with 1 Axes>"
      ]
     },
     "metadata": {
      "needs_background": "light"
     },
     "output_type": "display_data"
    }
   ],
   "source": [
    "train_fpr,train_tpr,threshold=roc_curve(Y_train_1,knn.predict_proba(X_train_uni_1)[:,1])\n",
    "test_fpr,test_tpr,threshold=roc_curve(Y_test_1,knn.predict_proba(X_test_uni_1)[:,1])\n",
    "\n",
    "plt.plot(train_fpr,train_tpr,label=\"Train_auc = \"+str(auc(train_fpr,train_tpr)))\n",
    "plt.plot(test_fpr,test_tpr,label=\"Test_auc = \"+str(auc(test_fpr,test_tpr)))\n",
    "\n",
    "plt.legend()\n",
    "plt.xlabel(\"K : hyperparameter\")\n",
    "plt.ylabel(\"AUC\")\n",
    "plt.title(\"Error plots\")\n",
    "plt.show()"
   ]
  },
  {
   "cell_type": "code",
   "execution_count": 41,
   "metadata": {},
   "outputs": [
    {
     "name": "stdout",
     "output_type": "stream",
     "text": [
      "confusion matrix on train data : \n",
      "[[10207  3454]\n",
      " [ 2732 11607]]\n",
      "confusion matrix on test data : \n",
      "[[4631 1708]\n",
      " [1311 4350]]\n"
     ]
    }
   ],
   "source": [
    "print(\"confusion matrix on train data : \")\n",
    "print(confusion_matrix(Y_train_1,knn.predict(X_train_uni_1)))\n",
    "\n",
    "print(\"confusion matrix on test data : \")\n",
    "print(confusion_matrix(Y_test_1,knn.predict(X_test_uni_1)))"
   ]
  },
  {
   "cell_type": "code",
   "execution_count": null,
   "metadata": {},
   "outputs": [],
   "source": []
  }
 ],
 "metadata": {
  "kernelspec": {
   "display_name": "Python 3",
   "language": "python",
   "name": "python3"
  },
  "language_info": {
   "codemirror_mode": {
    "name": "ipython",
    "version": 3
   },
   "file_extension": ".py",
   "mimetype": "text/x-python",
   "name": "python",
   "nbconvert_exporter": "python",
   "pygments_lexer": "ipython3",
   "version": "3.7.0"
  }
 },
 "nbformat": 4,
 "nbformat_minor": 2
}
